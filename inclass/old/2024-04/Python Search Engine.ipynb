{
 "cells": [
  {
   "cell_type": "markdown",
   "metadata": {
    "editable": true,
    "slideshow": {
     "slide_type": ""
    },
    "tags": []
   },
   "source": [
    "# Python Document Search Engine\n",
    "\n",
    "Now, we will start to put together all of the topics that we have studied so far into a series of \"Python Recipes\"---coding examples that illustrate the power of thinking hard about how data is organized and structured. In the first example, we will consider a \"Python Search Engine\" that will identify relevant items given a query string.\n",
    "\n",
    "We're going to start with a dataset of tweets about airlines called \"Twitter US Airline Sentiment\".  It can be found on kaggle https://www.kaggle.com/datasets/crowdflower/twitter-airline-sentiment.  The data is from February 2015, and was described by crowdflower as \"A sentiment analysis job about the problems of each major U.S. airline. Twitter data was scraped from February of 2015 and contributors were asked to first classify positive, negative, and neutral tweets, followed by categorizing negative reasons (such as “late flight” or “rude service”).\""
   ]
  },
  {
   "cell_type": "code",
   "execution_count": 1,
   "metadata": {},
   "outputs": [
    {
     "name": "stdout",
     "output_type": "stream",
     "text": [
      "Number:  14640 \t Size: 2.54024 MB \t Bytes per tweet: 173.5136612021858\n"
     ]
    }
   ],
   "source": [
    "import csv\n",
    "\n",
    "def load_data(filename):\n",
    "    rtn = []\n",
    "    #open the file with the csv reader\n",
    "    with open(filename, newline='') as csvfile:\n",
    "        tweets = csv.reader(csvfile, delimiter=',', quotechar='\"') \n",
    "        next(tweets)#skip the header   \n",
    "        for row in tweets:\n",
    "            rtn.append(row[10])\n",
    "    return rtn\n",
    "\n",
    "tweets = load_data('Tweets.csv')\n",
    "\n",
    "#figure out how much data we have\n",
    "size = sum([i.__sizeof__() for i in tweets]) + tweets.__sizeof__()\n",
    "\n",
    "print('Number: ', len(tweets), '\\t Size:', size/1e6,'MB','\\t Bytes per tweet:', size/len(tweets))"
   ]
  },
  {
   "cell_type": "code",
   "execution_count": 3,
   "metadata": {},
   "outputs": [
    {
     "data": {
      "text/plain": [
       "(list, str)"
      ]
     },
     "execution_count": 3,
     "metadata": {},
     "output_type": "execute_result"
    }
   ],
   "source": [
    "# And just so there is no doubt about what data types we are handling, check:\n",
    "type(tweets), type(tweets[0])"
   ]
  },
  {
   "cell_type": "markdown",
   "metadata": {},
   "source": [
    "This dataset contains a large list of tweets represented as string. We want to be able to search for phrases in these tweets. Of course, the first thing that we can do is the simple naive search routine where we scan through the entire dataset.\n",
    "\n",
    "## Naive Search\n",
    "Suppose, we wanted to find a substring in this collection of tweets, we could write the following code that iterates through each tweet and searches for a substring:"
   ]
  },
  {
   "cell_type": "code",
   "execution_count": 11,
   "metadata": {},
   "outputs": [],
   "source": [
    "import datetime\n",
    "\n",
    "def find(phrase, tweets):\n",
    "    #Naive full scan approach\n",
    "    start = datetime.datetime.now()\n",
    "    rtn = []\n",
    "    for t in tweets:\n",
    "        if phrase in t:\n",
    "            rtn.append(t)\n",
    "    print('Find() elapsed time: ', (datetime.datetime.now()-start).total_seconds())\n",
    "    return rtn"
   ]
  },
  {
   "cell_type": "code",
   "execution_count": 13,
   "metadata": {},
   "outputs": [
    {
     "name": "stdout",
     "output_type": "stream",
     "text": [
      "Find() elapsed time:  0.00286\n"
     ]
    },
    {
     "data": {
      "text/plain": [
       "['@VirginAmerica pilot says we expect a choppy landing in NYC due to some gusty winds w/a temperature of about 5 degrees &amp; w/the windchill -8']"
      ]
     },
     "execution_count": 13,
     "metadata": {},
     "output_type": "execute_result"
    }
   ],
   "source": [
    "find('choppy landing', tweets)\n"
   ]
  },
  {
   "cell_type": "code",
   "execution_count": 19,
   "metadata": {},
   "outputs": [
    {
     "name": "stdout",
     "output_type": "stream",
     "text": [
      "Find() elapsed time:  0.003294\n"
     ]
    },
    {
     "data": {
      "text/plain": [
       "0"
      ]
     },
     "execution_count": 19,
     "metadata": {},
     "output_type": "execute_result"
    }
   ],
   "source": [
    "len(find('LAx', tweets))"
   ]
  },
  {
   "cell_type": "markdown",
   "metadata": {},
   "source": [
    "That's pretty fast (5  ms!) But imagine if you had to run a million of such lookups, that would be 5000 seconds! At scale, small overheads add up. \n",
    "\n",
    "Now, we use our \"inverted indexing\" trick to make such searches faster.\n",
    "\n",
    "## Inverted Index\n",
    "Next, we will try to do the same search with an inverted index. The indexing structure that we will use is a python dictionary."
   ]
  },
  {
   "cell_type": "code",
   "execution_count": 21,
   "metadata": {},
   "outputs": [
    {
     "name": "stdout",
     "output_type": "stream",
     "text": [
      "build_index() elapsed time:  0.243279\n"
     ]
    }
   ],
   "source": [
    "import string \n",
    "\n",
    "def build_index(tweets):\n",
    "    start = datetime.datetime.now() \n",
    "    index = {}\n",
    "    \n",
    "    #some code to deal with punctuation\n",
    "    table = str.maketrans('', '', string.punctuation)\n",
    "    for i,tweet in enumerate(tweets):      \n",
    "        words = tweet.translate(table).split()       \n",
    "        for w in words:         \n",
    "            if w not in index:\n",
    "                index[w] = set()          \n",
    "            index[w].add(i) #add a pointer to the relevant tweet       \n",
    "    print('build_index() elapsed time: ', (datetime.datetime.now()-start).total_seconds())      \n",
    "    return index\n",
    "\n",
    "index = build_index(tweets)"
   ]
  },
  {
   "cell_type": "code",
   "execution_count": 31,
   "metadata": {},
   "outputs": [
    {
     "data": {
      "text/plain": [
       "([12419, 1284, 3972, 13063, 5257, 2698, 2958, 2063, 7823, 2449],\n",
       " [1, 2, 3, 9, 12, 16, 17, 19, 20, 28])"
      ]
     },
     "execution_count": 31,
     "metadata": {},
     "output_type": "execute_result"
    }
   ],
   "source": [
    "\n",
    "len(index[\"Chicago\"]),len(index[\"to\"])\n",
    "\n",
    "list(index[\"Chicago\"])[0:10], list(index[\"to\"])[0:10]"
   ]
  },
  {
   "cell_type": "markdown",
   "metadata": {},
   "source": [
    "Notice that build_index is about a 100x slower than a single query. What does this mean? Basically, indexing is only valuable if you run a lot of queries! \n",
    "\n",
    "The next challenge is how to use an inverted index to answer general substring queries. In class, we showed how to do exact keyword lookup but the phrase 'choppy landing' is actually two words. This is actually not a problem, and we can use the inverted index to retrieve a set of candidates and then use the naive find method among just those candidates. <font color = red> Is this a good idea? </font>"
   ]
  },
  {
   "cell_type": "markdown",
   "metadata": {},
   "source": [
    "So, let's write a new find function that can use this index:\n",
    "* It splits the phrase into its constituent words\n",
    "* Searches each word in the inverted index, finds a set of possibly relevant tweets (that match on a single word)\n",
    "* Then double checks that set.\n",
    "<font color=red>What kind of imperfection in the index are we working around here, false positives or false negatives?</font>"
   ]
  },
  {
   "cell_type": "code",
   "execution_count": 33,
   "metadata": {},
   "outputs": [
    {
     "name": "stdout",
     "output_type": "stream",
     "text": [
      "number of candidates 1\n",
      "Find() elapsed time:  1e-05\n"
     ]
    },
    {
     "data": {
      "text/plain": [
       "['@VirginAmerica pilot says we expect a choppy landing in NYC due to some gusty winds w/a temperature of about 5 degrees &amp; w/the windchill -8']"
      ]
     },
     "execution_count": 33,
     "metadata": {},
     "output_type": "execute_result"
    }
   ],
   "source": [
    "def find_index(phrase, tweets, index):\n",
    "    start = datetime.datetime.now()\n",
    "    words = phrase.split()\n",
    "    #find tweets that contain all words\n",
    "    candidates = None\n",
    "    \n",
    "    for w in words: #for each words in the phrase\n",
    "        try:\n",
    "            if candidates is None:\n",
    "                candidates = index[w] #return the set of tweets for w\n",
    "            else:\n",
    "                candidates = candidates.intersection(index[w])\n",
    "        except KeyError:\n",
    "            return []\n",
    "    \n",
    "    candidate_tweets = [tweets[ref] for ref in candidates]\n",
    "    print(\"number of candidates\", len(candidate_tweets)) \n",
    "    return find(phrase, candidate_tweets)\n",
    "    print('find_index() elapsed time: ', (datetime.datetime.now()-start).total_seconds())\n",
    "    \n",
    "find_index('choppy landing', tweets, index)\n",
    "#find_index('LAX', tweets, index)[:10]"
   ]
  },
  {
   "cell_type": "code",
   "execution_count": 39,
   "metadata": {},
   "outputs": [
    {
     "name": "stdout",
     "output_type": "stream",
     "text": [
      "number of candidates 53\n",
      "Find() elapsed time:  2.8e-05\n"
     ]
    },
    {
     "data": {
      "text/plain": [
       "28"
      ]
     },
     "execution_count": 39,
     "metadata": {},
     "output_type": "execute_result"
    }
   ],
   "source": [
    "len(find_index('to Chicago', tweets, index))\n"
   ]
  },
  {
   "cell_type": "code",
   "execution_count": 43,
   "metadata": {},
   "outputs": [
    {
     "name": "stdout",
     "output_type": "stream",
     "text": [
      "number of candidates 11\n",
      "Find() elapsed time:  1.1e-05\n"
     ]
    },
    {
     "data": {
      "text/plain": [
       "0"
      ]
     },
     "execution_count": 43,
     "metadata": {},
     "output_type": "execute_result"
    }
   ],
   "source": [
    "len(find_index('here again', tweets, index))"
   ]
  },
  {
   "cell_type": "markdown",
   "metadata": {},
   "source": [
    "There is a bug here; the index used .translate() to remove punctuation from the tokens.  What kind of error will this mismatch between the query and the canonical form of the token in the index provoke?"
   ]
  },
  {
   "cell_type": "markdown",
   "metadata": {},
   "source": [
    "In essence, you are paying a small upfront cost for greatly improved find performance (nearly a 1000x faster!). Speed is only aspect of search engine performance. We also like to support situations where a user mistypes a phrase. For example, if we mistype choppy landing:"
   ]
  },
  {
   "cell_type": "code",
   "execution_count": 45,
   "metadata": {},
   "outputs": [
    {
     "data": {
      "text/plain": [
       "[]"
      ]
     },
     "execution_count": 45,
     "metadata": {},
     "output_type": "execute_result"
    }
   ],
   "source": [
    "find_index('chopy landing', tweets, index)"
   ]
  },
  {
   "cell_type": "code",
   "execution_count": 47,
   "metadata": {},
   "outputs": [
    {
     "name": "stdout",
     "output_type": "stream",
     "text": [
      "choppy 1\n",
      "charity 6\n",
      "chemistry 1\n",
      "charlestonvery 1\n",
      "cheesy 1\n",
      "cherry 3\n",
      "chilly 1\n",
      "chewey 1\n"
     ]
    }
   ],
   "source": [
    "import re\n",
    "len(index.keys())\n",
    "for key in index.keys():\n",
    "    if re.search(\"^ch.*y\", key):\n",
    "        print(key, len(index[key]))"
   ]
  },
  {
   "cell_type": "markdown",
   "metadata": {},
   "source": [
    "Our system returns nothing. This is less than optimal.  How many approaches can we think of to handle mispellings?\n"
   ]
  },
  {
   "cell_type": "markdown",
   "metadata": {},
   "source": [
    "## Did you mean? \n",
    "So now we are going to write a utility that can identify mispelling and typos and suggest potential alternatives. So let's start off with a naive approach that simply finds the closest word in the index in terms of edit distance:"
   ]
  },
  {
   "cell_type": "code",
   "execution_count": 49,
   "metadata": {},
   "outputs": [
    {
     "name": "stdout",
     "output_type": "stream",
     "text": [
      "Jaccard('a b', 'b c')= 0.5\n",
      "Levenshtein('a b', 'b c')= 2\n"
     ]
    }
   ],
   "source": [
    "import distance\n",
    "\n",
    "print( \"Jaccard('a b', 'b c')=\", distance.jaccard('a b', 'b c'))\n",
    "print( \"Levenshtein('a b', 'b c')=\", distance.levenshtein('a b','b c') )"
   ]
  },
  {
   "cell_type": "code",
   "execution_count": 51,
   "metadata": {},
   "outputs": [
    {
     "name": "stdout",
     "output_type": "stream",
     "text": [
      "did_you_mean_naive() elapsed time:  0.561206\n"
     ]
    },
    {
     "data": {
      "text/plain": [
       "'choppy'"
      ]
     },
     "execution_count": 51,
     "metadata": {},
     "output_type": "execute_result"
    }
   ],
   "source": [
    "def did_you_mean_naive(word, index):\n",
    "    start = datetime.datetime.now()\n",
    "    if word in index:\n",
    "        return word\n",
    "    else:\n",
    "        distances = [(distance.levenshtein(word, iw), iw) for iw in index]\n",
    "        distances.sort()\n",
    "        print('did_you_mean_naive() elapsed time: ', (datetime.datetime.now()-start).total_seconds())\n",
    "        return distances[0][1]\n",
    "\n",
    "did_you_mean_naive('chopy', index)"
   ]
  },
  {
   "cell_type": "code",
   "execution_count": 53,
   "metadata": {},
   "outputs": [
    {
     "name": "stdout",
     "output_type": "stream",
     "text": [
      "did_you_mean_naive() elapsed time:  0.627713\n"
     ]
    },
    {
     "data": {
      "text/plain": [
       "'discount'"
      ]
     },
     "execution_count": 53,
     "metadata": {},
     "output_type": "execute_result"
    }
   ],
   "source": [
    "did_you_mean_naive('discont', index)"
   ]
  },
  {
   "cell_type": "code",
   "execution_count": 61,
   "metadata": {},
   "outputs": [
    {
     "name": "stdout",
     "output_type": "stream",
     "text": [
      "did_you_mean_naive() elapsed time:  0.419786\n"
     ]
    },
    {
     "data": {
      "text/plain": [
       "'dig'"
      ]
     },
     "execution_count": 61,
     "metadata": {},
     "output_type": "execute_result"
    }
   ],
   "source": [
    "did_you_mean_naive('dtg', index)"
   ]
  },
  {
   "cell_type": "markdown",
   "metadata": {},
   "source": [
    "The suggestion utility runs much slower than the actual query!!! How do we fix this? We can use the same trick as before: a fast algorithm to find reasonable candidates and a slower algorithm to refine those candidates.\n",
    "\n",
    "In fact, we will use an inverted index again. Just this time over sub-sequences of letters and not words. The first thing that we are going to do is to calculate n-grams these are contiguous sub-sequences of letters."
   ]
  },
  {
   "cell_type": "code",
   "execution_count": 63,
   "metadata": {},
   "outputs": [
    {
     "data": {
      "text/plain": [
       "['da', 'av', 've']"
      ]
     },
     "execution_count": 63,
     "metadata": {},
     "output_type": "execute_result"
    }
   ],
   "source": [
    "#ngram\n",
    "#def find_ngrams(word, n):\n",
    "#    return list(zip(*[word[i:] for i in range(n)]))\n",
    "\n",
    "def find_ngrams(word, n):\n",
    "    '''digest a word (a string) into a list of len(word)-n+1 \n",
    "    ngrams of length n.'''\n",
    "    return [word[i:i+n] for i in range(0, len(word)-n+1)]\n",
    "\n",
    "find_ngrams('dave', 2)"
   ]
  },
  {
   "cell_type": "markdown",
   "metadata": {},
   "source": [
    "Next, we are going to build a \"word\" index, an indexing structure that maps ngrams to words that contain them."
   ]
  },
  {
   "cell_type": "code",
   "execution_count": 65,
   "metadata": {},
   "outputs": [
    {
     "name": "stdout",
     "output_type": "stream",
     "text": [
      "build_word_index() elapsed time:  0.128351\n",
      "{'Vir': {'😂VirginAmerica', 'Virginia', 'VirginAmerica', 'WeRVirgin', 'Virtual', 'wantVirginAmerica', 'Virgins', '“VirginAmerica', '“VirginAmericaYouve', 'VirginAtlantic', 'Virgin'}, 'irg': {'nomorevirgin', 'SouthwestAirgive', 'virginAmerica', 'neverflyvirginforbusiness', '😂VirginAmerica', 'diehardvirgin', 'VirginAmerica', 'Virgins', 'virgin', '“VirginAmerica', 'infovirginamericacom', 'Virginia', '\n"
     ]
    }
   ],
   "source": [
    "def build_word_index(index, n):\n",
    "    '''Builds a dictionary that maps ngrams contained in the \n",
    "    keys of index to the keys themselves.'''\n",
    "    start = datetime.datetime.now()  \n",
    "    word_index = {}\n",
    "    for word in index:\n",
    "        ngrams = find_ngrams(word, n)     \n",
    "        for subseq in ngrams:       \n",
    "            if subseq not in word_index:\n",
    "                word_index[subseq] = set()       \n",
    "            word_index[subseq].add(word) #add a pointer to the relevant word\n",
    "    \n",
    "    print('build_word_index() elapsed time: ', (datetime.datetime.now()-start).total_seconds())\n",
    "    return word_index\n",
    "\n",
    "word_index = build_word_index(index, 3)\n",
    "print(repr(word_index)[0:400])"
   ]
  },
  {
   "cell_type": "code",
   "execution_count": null,
   "metadata": {},
   "outputs": [],
   "source": []
  },
  {
   "cell_type": "markdown",
   "metadata": {},
   "source": [
    "We can use this word index to build a more sophisticated search:\n",
    "* Only consider words that share a minimum number of ngrams with the lookup word"
   ]
  },
  {
   "cell_type": "code",
   "execution_count": 69,
   "metadata": {},
   "outputs": [
    {
     "name": "stdout",
     "output_type": "stream",
     "text": [
      "did_you_mean_better() elapsed time:  0.002155\n"
     ]
    },
    {
     "data": {
      "text/plain": [
       "'choppy'"
      ]
     },
     "execution_count": 69,
     "metadata": {},
     "output_type": "execute_result"
    }
   ],
   "source": [
    "def did_you_mean_better(word, word_index, n, thresh=1):\n",
    "    '''Finds the closest key in index to the query word, but only check\n",
    "    for words that share at least one ngram with the query word.  Uses\n",
    "    word_index.\n",
    "    '''\n",
    "    start = datetime.datetime.now()\n",
    "    \n",
    "    candidate_words = {}\n",
    "    ngrams = find_ngrams(word, n)\n",
    "    \n",
    "    for ngram in ngrams:\n",
    "        candidates = word_index.get(ngram, set())\n",
    "        \n",
    "        for candidate in candidates:\n",
    "            candidate_words[candidate] = candidate_words.get(candidate,0) + 1\n",
    "    \n",
    "    \n",
    "    \n",
    "    distances = [(distance.levenshtein(word, iw), iw) for iw in candidate_words \n",
    "                 if candidate_words[iw] >= thresh]\n",
    "    distances.sort()\n",
    "        \n",
    "    print('did_you_mean_better() elapsed time: ', (datetime.datetime.now()-start).total_seconds())\n",
    "        \n",
    "    return distances[0][1]\n",
    "    \n",
    "\n",
    "did_you_mean_better('chopy', word_index, 3)"
   ]
  },
  {
   "cell_type": "code",
   "execution_count": 71,
   "metadata": {},
   "outputs": [
    {
     "name": "stdout",
     "output_type": "stream",
     "text": [
      "did_you_mean_better() elapsed time:  0.001853\n"
     ]
    },
    {
     "data": {
      "text/plain": [
       "'Chicago'"
      ]
     },
     "execution_count": 71,
     "metadata": {},
     "output_type": "execute_result"
    }
   ],
   "source": [
    "did_you_mean_better('Chicgo', word_index, 3)"
   ]
  },
  {
   "cell_type": "code",
   "execution_count": 73,
   "metadata": {},
   "outputs": [
    {
     "name": "stdout",
     "output_type": "stream",
     "text": [
      "did_you_mean_better() elapsed time:  0.022421\n"
     ]
    },
    {
     "data": {
      "text/plain": [
       "'dinner'"
      ]
     },
     "execution_count": 73,
     "metadata": {},
     "output_type": "execute_result"
    }
   ],
   "source": [
    "did_you_mean_better('diner', word_index, 3)"
   ]
  },
  {
   "cell_type": "markdown",
   "metadata": {},
   "source": [
    "Notice how much faster this approach is!! 0.992237 secs v.s. 0.003581 seconds."
   ]
  },
  {
   "cell_type": "markdown",
   "metadata": {},
   "source": [
    "## Putting it all together\n",
    "\n",
    "Now, let's write the full program and try out some queries"
   ]
  },
  {
   "cell_type": "code",
   "execution_count": 75,
   "metadata": {},
   "outputs": [
    {
     "name": "stdout",
     "output_type": "stream",
     "text": [
      "Searching for...choppy landing in 14640 tweets\n",
      "number of candidates 1\n",
      "Find() elapsed time:  3e-06\n",
      "Found 1 matches\n",
      "['@VirginAmerica pilot says we expect a choppy landing in NYC due to some gusty winds w/a temperature of about 5 degrees &amp; w/the windchill -8']\n"
     ]
    }
   ],
   "source": [
    "def find_final(phrase, \\\n",
    "               tweets, \\\n",
    "               index, \\\n",
    "               word_index, \\\n",
    "               n=3, \\\n",
    "               thresh=1):\n",
    "    print('Searching for...' + phrase + \" in \" + str(len(tweets)) + \" tweets\")\n",
    "    out = find_index(phrase, tweets, index)\n",
    "    print('Found ' + str(len(out)) + ' matches')\n",
    "    \n",
    "    if len(out) == 0:\n",
    "        for word in phrase.split():\n",
    "            if word not in index:\n",
    "                print('Did you mean: ' + did_you_mean_better(word, word_index, n, thresh) + ' instead of ' + word + '?')\n",
    "    else:\n",
    "        print(out)\n",
    "\n",
    "find_final('choppy landing', tweets, index, word_index)"
   ]
  },
  {
   "cell_type": "code",
   "execution_count": 77,
   "metadata": {},
   "outputs": [
    {
     "name": "stdout",
     "output_type": "stream",
     "text": [
      "Searching for...chopy landing in 14640 tweets\n",
      "Found 0 matches\n",
      "did_you_mean_better() elapsed time:  0.00202\n",
      "Did you mean: choppy instead of chopy?\n"
     ]
    }
   ],
   "source": [
    "find_final('chopy landing', tweets, index, word_index)"
   ]
  },
  {
   "cell_type": "code",
   "execution_count": 79,
   "metadata": {},
   "outputs": [
    {
     "name": "stdout",
     "output_type": "stream",
     "text": [
      "Searching for...choppy landig in 14640 tweets\n",
      "Found 0 matches\n",
      "did_you_mean_better() elapsed time:  0.021564\n",
      "Did you mean: landing instead of landig?\n"
     ]
    }
   ],
   "source": [
    "find_final('choppy landig', tweets, index, word_index)"
   ]
  },
  {
   "cell_type": "code",
   "execution_count": 81,
   "metadata": {},
   "outputs": [
    {
     "name": "stdout",
     "output_type": "stream",
     "text": [
      "Searching for...LAX in 14640 tweets\n",
      "number of candidates 95\n",
      "Find() elapsed time:  3.8e-05\n",
      "Found 95 matches\n",
      "[\"@united is doing musicians real dirty at LAX. I've never been blocked from getting on a flight with my bass.\", \"@United I'm hoping we don't miss our LAX - ITO connection. Not looking forward to being stuck at LAX overnight with our team....AGAIN!\", \"@united I forgot that Intl flights out of LAX don't go from Intl Terminal! Easiest re-check in ever! woo!\", \"@united - you sure missed the mark on tonight's redeye from LAX to Chicago. What a mess! You can do better!\", \"@VirginAmerica So excited for my first cross country flight LAX to MCO I've heard nothing but great things about Virgin America. #29DaysToGo\", '@VirginAmerica LAX to EWR - Middle seat on a red eye. Such a noob maneuver. #sendambien #andchexmix', '@VirginAmerica help, left expensive headphones on flight 89 IAD to LAX today. Seat 2A. No one answering L&amp;F number at LAX!', \"@USAirways I have been doing that all day. Can't find my bag anywhere bc they're saying it was never scanned &amp; technically never left LAX.\", '@JetBlue received horrible customer service at LAX on 2/11. Reservation Cancelled Flighted without notification, despite having confirmation number.', '@united #LAX #sunrise UAL212 LAX-JFK', '@united our travel booked thru United group dept. Okc ticket agent less than willing to help with our connection in LAX.', '@USAirways Another great flight #FunFlightAttendants. Thanks for showing my dad wonderful customer service. #flt635 #LAX #PHX #SundayFunday', '@SouthwestAir another great trip! LAX 823 - LAS 3075-  BNA. Thanks so much!!!', '@united Hi, Im flying SFO-LAX-SAL-CLO. My connecting time in LAX is 1h45m. Is it enough time? Do I have to collect my bag and recheck on AV?', \"@AmericanAir at LAX &amp; just got off the phone w/reservations. Every flight that'd get me to BOS before 11 am tmrw is apparently unavailable 😐\", '@AmericanAir originating at SFO and going to LAX.', '@VirginAmerica just landed in LAX, an hour after I should of been here. Your no Late Flight bag check is not business travel friendly #nomorevirgin', '@USAirways your staff at LAX really messed up on this one. Failing to scan my suitcase tag.', '@VirginAmerica trying to add my boy Prince to my ressie. SF this Thursday @VirginAmerica from LAX http://t.co/GsB2J3c4gM', \"@AmericanAir at LAX and your service reps just hand out the 800 number to call. So that's not helpful.\", '@united they did on a delta flight out of LAX which is why I should be compensated for my rental car there.', '@USAirways honest question - how is a 1-way ticket from Charlotte (your hub) to LAX (2nd biggest city in USA) almost $600?????', '@VirginAmerica Can you find us a flt out of LAX that is sooner than midnight on Monday? That would be great customer service 😃', '@AmericanAir flight Cancelled Flighted out of LAX for tomorrow due to connection in DFW. Help please? we can go out of orange or burbank', '@united you should tell that to the staff at LAX then. I boarded group 5 at the very end of the queue as a Gold member. Thanks for nothing.', '@SouthwestAir appreciate the reply, hopefully those LAX agents get the memo. Cheers!', '@SouthwestAir @ LAX is almost a mess. For some reason the express bag drop is slower than the full service line. http://t.co/ORY89eEGek', \"@AmericanAir I've been trying to change frm AA 2401 to LAX at 6:50am MONDAY morning then AA 2586 from LAX to FAT to flight AA 1359?#helpAA\", '@AmericanAir - Please find my bag!! In Singapore for three days already without my bag. Last known destination LAX Tag: 580815 Please help.', '@AmericanAir they were no where to be found at Midnight Last Night! I would think the agent in LAX could have relayed that info.Bag on flt', \"@united of course I need help.  I've been DMing you ladies and gents all day. Your only solution is hope for the best and LAX.\", '@usairways @AmericanAir LAX connect from term 6 to term 4.  55min layover due to delay. US755-AA2595. Is this realistic? Can 2595 be held?', \"@AmericanAir yes it is in Dulles and I need it delivered to the Embassy Suites in Herndon, VA. I'm still in Chicago from the fiasco in LAX\", \"@AmericanAir usually raving about the service to LAX. Your nbr1 and helper can't figure out how to hang a coat and serve a drink. 6F\", \"@USAirways doesn't seem likely bc your team failed to scan my bag in LAX and you recycle bagtag numbers that doesn't help #usairwaysfail\", '@USAirways Everyone on Flight 669 from LAX to RDU enjoyed waiting an hour &amp; a half in baggage claim for their bags just now', '@VirginAmerica nervous about my flight from DC to LAX getting Cancelled Flightled tomorrow! Just sent you a DM to help me!', '@united Flight has been delayed for another hour so only have 24 mins to transit at LAX... Extremely unlikely I will make it!', '@United is offering to reroute my SFO flight to LAX. Might be geography class time.', '@AmericanAir None of the #LAX flights into #DFW have been Cancelled Flightled. Those landing before and after ours are fine. Completely arbitrary.', \"@AmericanAir another generic response guys? Cmon. You're terrible. How about an actual helpful person? Not all the rude employees at LAX\", '@jetblue rqstd upgrade to mint at LAX and was told no because i used points! Why turn down $1600 bcz I used points? #trueblue', '@united care less about the person - although he walked away while I was complaining.  A man at 10p at LAX club.  More.....', \"@USAirways Hey! I booked a flight (Isabelle Gramp, Boston to LAX), and it said that it charged my credit card but the transaction didn't go\", '@AmericanAir at JFK flight to Boston delayed 20 min waiting for catering they are boarding flight to LAX waiting for over and hour WTF?', \"@united I missed my connection already. Then I missed the next flight they put me on.  Now I'm going to LAX instead of Hawaii.  :(\", '@AmericanAir Cancelled Flightled flight from fresno then rebooked for LAX now flight Cancelled Flightled again and its midnight with no more hotel available???', '@SouthwestAir any idea if there will be any \"spring sales\" soon for travel from Late Flight August to early September? Going from PA to LAX.', '@AmericanAir If SNA curfew causes diversion, do you provide transportation from LAX? On AA1237 now, pilot not sure if we have time.', '@AmericanAir a friend is having flight Cancelled Flightlations out of LAX to CMH on Feb 23. Anyway to help her? 800 number has been no help', '@united Old school ride home to LAX from Houston #flyingRetro http://t.co/6asuwx3Kv0', '@VirginAmerica @VirginAtlantic I have just checked in flight to SFO from LAX &amp; been told as Atlantic Flying Club Gold I get no benefits?!', \"@VirginAmerica lost my luggage 4 days ago on flight VX 112 from LAX to IAD &amp; I'm calling every day, no response.Please give me back my stuff\", '@united Maybe be hiring your own ground staff at LAX when multiple gate agents tell you your baggage is loaded you expect it to be. HOPELESS', '@AmericanAir - Please find my bag!! In Singapore for three days already without my bag. Last known destination LAX Tag: 580815 Please help.', '@SouthwestAir think flight 1945 from BNA to LAX will get off the ground tomorrow??? #please #snowbama', '@united There is only one club at LAX  - in terminal 7 across from gate 71', \"@united I think this is the best first class I have ever gotten!!  Denver to LAX and it's wonderful!!!\", '@united Joni did a great job on flight 5653 to LAX. Thanks for a great flight.', '@united SF crew lack a lot of customer service, LAX employees are a lot better. Wonder why...', '@united are my bags here yet?  They were at Palm Springs airport.  I was at LAX.  How come I beat my bags here.', '@AmericanAir Flight  AA1691 LAX to LAS closes too early and gate agents give us hassles #PatheticCX', \"@united Where are my bags!!!  They weren't in LAX like your promised.  9 out of 10 things today were a mess today because of you.\", \"@united UA flight 1247. SFO to LAX took my carry on at gate. I'm Group 2, overhead bins are empty\", '@AmericanAir None of the #LAX flights into #DFW have been Cancelled Flightled. Those landing before and after ours are fine. Completely arbitrary.', '@united maybemange the airline alittlebetter. Arrived at LAX and no GATE! #howisthatpossible always the same thing w/u', '@united Ugh.  My bags were sent to Palm Springs and not to LAX as promised.  They better be at the hotel when I get there.', \"@JetBlue I'm #MakingLoveOutofNothingAtAll on my #brandloveaffair to #LAX https://t.co/kdHRUF54sW\", '@united really fucked my day up Hilo to LAX 2hr30min delay because of software? missed connection, getting home 8hrs Late Flightr no upgrade nothin', \"@AmericanAir because your plane's toilet wasn't working and they needed gas. This is flight 1081 leaving Dulles going to LAX. Do some...\", '@SouthwestAir last week I flew from DAL to LAX. You got us in almost an hour early. Thank You.', \"@JetBlue gr8 #Mint crew on #flight 123 to #LAX they're #Mintalicious #TrueBlueLove #ShelleyandMarcRock #travel #air\", \"@AmericanAir it was my friend. She shouldn't have been scheduled so close together at LAX then not reimbursed. It's costing her 12 hrs &amp;$250\", \"@AmericanAir when will tomorrow's flight Cancelled Flightlations at Dfw for AA flights be posted? We are on 2424 at 7am from LAX!\", '@united I took the exact same aircraft in to LAX 3 days ago. It fit, no problem. The agent today told some nonsense about a policy change', '@USAirways I will be traveling from LAX to CLT to HTS, I have been rebooked for tomorrow due to the travel advisory.', '@AmericanAir please help my flight appears Cancelled Flight 1503 from ft. Lauderdale to Dallas to LAX. Is there anything leaving from Mia or FLL? ThxU', \"@USAirways what's happening with 1217 Phl to LAX? Now 3 hr delay. Poor communication!\", '@united the person is currently bettween gates 71A and 73 in LAX', '@VirginAmerica Thanks for making my flight from LAX to JFK a nightmare by forcing me to check my carry on bag at the gate. (1)', '@united I need the phone number to baggage claim in LAX, my mom left her phone and someone called saying they would put it there but on', '@SouthwestAir if you are giving tix to #DestinationDragons show would appreciate one or two for LA😄Flying from PHL to LAX on Friday', '@AmericanAir no one met flight 1081 to LAX to tell passengers where to go or what flights they were rebooked on #badmgmt #AmericanAirlines', '@southwestair Amazing view on the approach to LAX tonight. http://t.co/a68d5fULmH', \"@AmericanAir flight 1081 from IAD to LAX sat for more than 3hrs because ground crew couldn't drive in snow #badmgmt #AmericanAirlines\", '@SouthwestAir So I am flying Chicago-LAX-PHX just to go spotting at LAX and PHX airports, then I am flying back to Chicago :)', '@SouthwestAir Flight 1700. (PHX TO LAX) Wheels stop.  Glad to be home!  Thanks to the professionals both up front and in the cabin!!!', '@AmericanAir @dotnetnate Two hour wait for EXPs as I sit on a JFK PHX flight because US computers are down. Any shot at an LAX flight?', '@AmericanAir Yes I am. 2495/1170. RNO departure at 1229 on 2/25 w/connection at DFW to LGA. I can do the 1120am to LAX and then to JFK', '@AmericanAir the most stressful morning and still had to pay to check a bag. LAX is a madhouse with a lot of angry customers. Yikes', '@JetBlue service for baggage at JFK is incomprehensible. No employee knows where our luggage is frM flight 424 LAX to NYC ITS AN HR WAIT NOW', '@VirginAmerica Flying LAX to SFO and after looking at the awesome movie lineup I actually wish I was on a long haul.', '@united now arrives LAX @ 8:03 am', '@united I do I was on UA 495 LAX TO DEN - we are scheduled to land LAX @ 7:38 am - please rebook to Denver - best flight', '@AmericanAir thanks for the DM rescheduling. Unfortunately your operations process at LAX is chaos &amp; the reps refused to print the ticket']\n"
     ]
    }
   ],
   "source": [
    "find_final('LAX', tweets, index, word_index)"
   ]
  },
  {
   "cell_type": "code",
   "execution_count": 83,
   "metadata": {},
   "outputs": [
    {
     "name": "stdout",
     "output_type": "stream",
     "text": [
      "Searching for...LAXS in 14640 tweets\n",
      "Found 0 matches\n",
      "did_you_mean_better() elapsed time:  0.001511\n",
      "Did you mean: LAX instead of LAXS?\n"
     ]
    }
   ],
   "source": [
    "find_final('LAXS', tweets, index, word_index)"
   ]
  },
  {
   "cell_type": "code",
   "execution_count": null,
   "metadata": {},
   "outputs": [],
   "source": []
  }
 ],
 "metadata": {
  "kernelspec": {
   "display_name": "Python 3 (ipykernel)",
   "language": "python",
   "name": "python3"
  },
  "language_info": {
   "codemirror_mode": {
    "name": "ipython",
    "version": 3
   },
   "file_extension": ".py",
   "mimetype": "text/x-python",
   "name": "python",
   "nbconvert_exporter": "python",
   "pygments_lexer": "ipython3",
   "version": "3.11.7"
  }
 },
 "nbformat": 4,
 "nbformat_minor": 4
}
