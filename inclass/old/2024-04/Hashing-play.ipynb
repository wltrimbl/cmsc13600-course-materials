{
 "cells": [
  {
   "cell_type": "markdown",
   "id": "a3bdb1db",
   "metadata": {},
   "source": [
    "# Hashing \n",
    "Hashing is a fundamental concept in computer science used for various purposes like data retrieval, cryptography, and data integrity verification. \n",
    "\n",
    "A hash function is a mathematical function that takes an input (or 'message') and returns a fixed-size result. The output is typically a number. The output is often referred to as the hash value, hash code, or simply hash. Hash functions are designed to be fast and efficient. They should also be deterministic, meaning the same input will always produce the same output.\n",
    "\n",
    "Hash functions are widely used for various purposes:\n",
    "\n",
    "1. **Data Retrieval**: Hash functions are used in data structures like hash tables to quickly locate a data record given its search key.\n",
    "\n",
    "2. **Data Integrity Verification**: Hash functions are used to verify the integrity of data. For example, when you download a file from the internet, the website might provide a hash value for that file. After downloading, you can hash the file yourself and compare the result to the provided hash value. If they match, it's likely that the file hasn't been tampered with.\n",
    "\n",
    "3. **Cryptographic Applications**: In cryptography, hash functions play a crucial role. They're used in digital signatures, message authentication codes (MACs), and various other cryptographic algorithms. In these applications, hash functions need to have specific properties like collision resistance (it should be computationally infeasible to find two different inputs that produce the same hash), preimage resistance (given a hash value, it should be computationally infeasible to find the input that produces that hash), and second preimage resistance (given an input, it should be computationally infeasible to find a different input that produces the same hash).\n",
    "\n",
    "## Hash Functions\n",
    "While a hash function can be anytthing, we like to think about what a good hash function does. The \"simple uniform hashing assumption\" is a theoretical concept in the analysis of hash functions and hash tables. It assumes that each key is equally likely to hash to any of the slots in the hash table, independently of where any other key has hashed to. \n",
    "\n",
    "In simpler terms, it means that under this assumption, every key has an equal probability of being placed in any available slot in the hash table. This assumption simplifies the analysis of hash functions and helps in understanding their behavior in practice:\n",
    "\n",
    "1. **Deterministic**: Given the same input, a hash function should always produce the same output. This property is crucial for consistency and reliability.\n",
    "\n",
    "2. **Uniform Distribution**: A good hash function should evenly distribute the hash values across the entire range of possible hash values. This helps minimize collisions and ensures efficient use of the hash table.\n",
    "\n",
    "3. **Collision Resistance**: Collisions occur when two different inputs produce the same hash value. While collisions are inevitable due to the pigeonhole principle, a good hash function should minimize the likelihood of collisions, especially for different inputs.\n",
    "\n",
    "4. **Avalanche Effect**: A small change in the input should produce a significantly different hash value. This property ensures that similar inputs result in drastically different hash values, enhancing security in cryptographic applications.\n",
    "\n",
    "5. **Preimage Resistance**: Given a hash value, it should be computationally infeasible to find the original input that produced that hash value. This property is crucial for cryptographic hash functions to ensure data integrity and security.\n",
    "\n",
    "6. **Second Preimage Resistance**: Given an input, it should be computationally infeasible to find another input that produces the same hash value. This property enhances the security of hash functions against attacks.\n",
    "\n",
    "Let's see an example."
   ]
  },
  {
   "cell_type": "code",
   "execution_count": 1,
   "id": "6cf10d74",
   "metadata": {},
   "outputs": [],
   "source": [
    "data = ['The quick brown fox.33333333sdfsdfsdafdsafdsfdsfsdfadsfdfsdafdsafdsadsfasdfsdfasdfsda', 'Lazy dog!', 'The quick brown dog.']"
   ]
  },
  {
   "cell_type": "markdown",
   "id": "25d3abe1",
   "metadata": {},
   "source": [
    "We're going to use a particular hash function called SHA256 to hash each one of those strings."
   ]
  },
  {
   "cell_type": "code",
   "execution_count": 3,
   "id": "73794197",
   "metadata": {},
   "outputs": [],
   "source": [
    "import hashlib"
   ]
  },
  {
   "cell_type": "code",
   "execution_count": 4,
   "id": "d5ce9fdf",
   "metadata": {},
   "outputs": [
    {
     "name": "stdout",
     "output_type": "stream",
     "text": [
      "The quick brown fox.33333333sdfsdfsdafdsafdsfdsfsdfadsfdfsdafdsafdsadsfasdfsdfasdfsda 77e1c6e58f90b4adfcd7c834317e4d804b59dec139cc8956ea2bd6a59eaa86cc\n",
      "Lazy dog! 9e829371720ba355463f37a4934a8738a374d9f86e4b750e5d620cf3d823c5e4\n",
      "The quick brown dog. fc522e13ef1d4e2200196bf91d9c6fce1cc66759334a8f7108568ebf58377b05\n"
     ]
    }
   ],
   "source": [
    "for item in data:\n",
    "    hash_value = hashlib.sha256(bytes(item, 'ascii')).hexdigest()\n",
    "    print(item, hash_value)"
   ]
  },
  {
   "cell_type": "code",
   "execution_count": 9,
   "id": "ed11f644-6601-42b7-aea6-9bc4e441540d",
   "metadata": {},
   "outputs": [
    {
     "name": "stdout",
     "output_type": "stream",
     "text": [
      "64\n",
      "256\n"
     ]
    }
   ],
   "source": [
    "print (len(\"9e829371720ba355463f37a4934a8738a374d9f86e4b750e5d620cf3d823c5e4\"))\n",
    "print (len(\"9e829371720ba355463f37a4934a8738a374d9f86e4b750e5d620cf3d823c5e4\") * 4) "
   ]
  },
  {
   "cell_type": "markdown",
   "id": "ed57f040",
   "metadata": {},
   "source": [
    "That \"hash_value\" here is actually just a big number. It is a base 16 representation of a large integer, we often do this for readability. Base 16 tends to be a bit shorter in length. We can explicitly pull that number out as a base 10 number!"
   ]
  },
  {
   "cell_type": "code",
   "execution_count": 7,
   "id": "b74c1a96",
   "metadata": {},
   "outputs": [
    {
     "name": "stdout",
     "output_type": "stream",
     "text": [
      "The quick brown fox.33333333sdfsdfsdafdsafdsfdsfsdfadsfdfsdafdsafdsadsfasdfsdfasdfsda 54224142305707474213361739850937961591708901673307485347665416212166174475980\n",
      "Lazy dog! 71696137809774619780655560040524127456270814039042933840347783383102064412132\n",
      "The quick brown dog. 114128037320047589598316989351246110197368871174634164877721531263239648148229\n"
     ]
    }
   ],
   "source": [
    "for item in data:\n",
    "    hash_value = hashlib.sha256(bytes(item, 'ascii')).digest()\n",
    "    hash_value_int = int.from_bytes(hash_value, 'big')\n",
    "    print(item, hash_value_int)"
   ]
  },
  {
   "cell_type": "markdown",
   "id": "603e4254",
   "metadata": {},
   "source": [
    "Now let's look at some of the properties practically.\n",
    "\n",
    "## Property 1. Determinism\n",
    "Hash functions are deterministic. If I run the same code again, I will get the same values."
   ]
  },
  {
   "cell_type": "code",
   "execution_count": 27,
   "id": "0d9dc4fc",
   "metadata": {},
   "outputs": [
    {
     "name": "stdout",
     "output_type": "stream",
     "text": [
      "The quick brown fox. 30252603008303152987250752968612518942352524714941699131310588379066555989957\n",
      "Lazy dog! 71696137809774619780655560040524127456270814039042933840347783383102064412132\n",
      "The quick brown dog. 114128037320047589598316989351246110197368871174634164877721531263239648148229\n"
     ]
    }
   ],
   "source": [
    "for item in data:\n",
    "    hash_value = hashlib.sha256(bytes(item, 'ascii')).digest()\n",
    "    hash_value_int = int.from_bytes(hash_value, 'big')\n",
    "    print(item, hash_value_int)"
   ]
  },
  {
   "cell_type": "markdown",
   "id": "eb665b46",
   "metadata": {},
   "source": [
    "## Property 2. Uniformity\n",
    "Let's test this out with a smaller code space. I'm going to define this new hash function that limits the code space of the Sha256 hash function to integers 0-4."
   ]
  },
  {
   "cell_type": "code",
   "execution_count": 31,
   "id": "fa0d6173",
   "metadata": {},
   "outputs": [],
   "source": [
    "def sha8(strg):\n",
    "    hash_value = hashlib.sha256(bytes(strg, 'ascii')).digest()\n",
    "    hash_value_int = int.from_bytes(hash_value, 'big')\n",
    "    return hash_value_int % 8"
   ]
  },
  {
   "cell_type": "code",
   "execution_count": 13,
   "id": "489bad01",
   "metadata": {},
   "outputs": [
    {
     "data": {
      "text/plain": [
       "1"
      ]
     },
     "execution_count": 13,
     "metadata": {},
     "output_type": "execute_result"
    }
   ],
   "source": [
    "sha8(\"This is a test message 21\")"
   ]
  },
  {
   "cell_type": "markdown",
   "id": "2e3ee2a8",
   "metadata": {},
   "source": [
    "Let's make a bigger dataset"
   ]
  },
  {
   "cell_type": "code",
   "execution_count": 17,
   "id": "77c73893",
   "metadata": {},
   "outputs": [],
   "source": [
    "data = ['The quick brown fox.', 'Lazy dog!', 'The quick brown dog.', \n",
    "        \"This is a test message\", \"Holy cow!\", \"Data 13600\", \n",
    "        \"Are there enough strings here\", \"how about some more\",\n",
    "       \"what about now\", \"this is a test 1234\", \"123\", \"a\", \"b\"\n",
    "       \"c\"]"
   ]
  },
  {
   "cell_type": "code",
   "execution_count": 19,
   "id": "1fc19977",
   "metadata": {},
   "outputs": [
    {
     "name": "stdout",
     "output_type": "stream",
     "text": [
      "{5: 3, 4: 3, 6: 2, 0: 1, 2: 1, 7: 1, 3: 2}\n"
     ]
    }
   ],
   "source": [
    "dct = {}\n",
    "for item in data:\n",
    "    dct[sha8(item)] = dct.get(sha8(item),0) + 1\n",
    "\n",
    "print(dct)"
   ]
  },
  {
   "cell_type": "markdown",
   "id": "b87542e7",
   "metadata": {},
   "source": [
    "## Property 4. Avalanche Effect\n",
    "Small changes in the input should result in drastic differences in the output"
   ]
  },
  {
   "cell_type": "code",
   "execution_count": 23,
   "id": "6e4c086a",
   "metadata": {},
   "outputs": [
    {
     "name": "stdout",
     "output_type": "stream",
     "text": [
      "Chicago 6950060219165216524958472269963952367924821925386057770048443265012099860366\n"
     ]
    }
   ],
   "source": [
    "item = \"Chicago\"\n",
    "hash_value = hashlib.sha256(bytes(item, 'ascii')).digest()\n",
    "hash_value_int = int.from_bytes(hash_value, 'big')\n",
    "print(item, hash_value_int)"
   ]
  },
  {
   "cell_type": "code",
   "execution_count": 21,
   "id": "e805f74b",
   "metadata": {},
   "outputs": [
    {
     "name": "stdout",
     "output_type": "stream",
     "text": [
      "Chicago  94943854562758718186715445437847933575983275458851726811305844913644912220526\n"
     ]
    }
   ],
   "source": [
    "item = \"Chicago \"\n",
    "hash_value = hashlib.sha256(bytes(item, 'ascii')).digest()\n",
    "hash_value_int = int.from_bytes(hash_value, 'big')\n",
    "print(item, hash_value_int)"
   ]
  },
  {
   "cell_type": "markdown",
   "id": "12fe4fbb-92cd-4765-b2a2-ac696c6d9c6e",
   "metadata": {},
   "source": [
    "## Proof of work\n",
    "I had a list of strings that had sha8 3-bit hashes \"all over the place\", meaning that they had various values between 0 and 7.  Suppose I want to append strings containing numbers to the end to ensure that the hashes have a specific value: 0.  "
   ]
  },
  {
   "cell_type": "code",
   "execution_count": 25,
   "id": "09b0fa20-8902-4624-9b86-5068757f4275",
   "metadata": {},
   "outputs": [
    {
     "data": {
      "text/plain": [
       "['The quick brown fox.',\n",
       " 'Lazy dog!',\n",
       " 'The quick brown dog.',\n",
       " 'This is a test message',\n",
       " 'Holy cow!',\n",
       " 'Data 13600',\n",
       " 'Are there enough strings here',\n",
       " 'how about some more',\n",
       " 'what about now',\n",
       " 'this is a test 1234',\n",
       " '123',\n",
       " 'a',\n",
       " 'bc']"
      ]
     },
     "execution_count": 25,
     "metadata": {},
     "output_type": "execute_result"
    }
   ],
   "source": [
    "data"
   ]
  },
  {
   "cell_type": "code",
   "execution_count": 27,
   "id": "9efa30aa-836c-49c6-8dd2-41d7874a1a85",
   "metadata": {},
   "outputs": [],
   "source": [
    "def make_hash_pretty(instring):\n",
    "    n=0\n",
    "    while sha8(instring + repr(n)) != 0:\n",
    "        n=n+1\n",
    "    print(n , \"steps, found \", instring+repr(n)) \n",
    "    return instring + repr(n)\n",
    "    "
   ]
  },
  {
   "cell_type": "code",
   "execution_count": 33,
   "id": "66c0fe0f-ad75-408d-8037-8a1a282ed8dd",
   "metadata": {},
   "outputs": [
    {
     "name": "stdout",
     "output_type": "stream",
     "text": [
      "13 steps, found  The quick brown fox.13\n",
      "3 steps, found  Lazy dog!3\n",
      "8 steps, found  The quick brown dog.8\n",
      "6 steps, found  This is a test message6\n",
      "16 steps, found  Holy cow!16\n",
      "9 steps, found  Data 136009\n",
      "16 steps, found  Are there enough strings here16\n",
      "7 steps, found  how about some more7\n",
      "3 steps, found  what about now3\n",
      "9 steps, found  this is a test 12349\n",
      "3 steps, found  1233\n",
      "48 steps, found  a48\n",
      "12 steps, found  bc12\n",
      "['The quick brown fox.13', 'Lazy dog!3', 'The quick brown dog.8', 'This is a test message6', 'Holy cow!16', 'Data 136009', 'Are there enough strings here16', 'how about some more7', 'what about now3', 'this is a test 12349', '1233', 'a48', 'bc12']\n"
     ]
    }
   ],
   "source": [
    "prettified_data = [make_hash_pretty(k) for k in data] \n",
    "print (prettified_data)\n"
   ]
  },
  {
   "cell_type": "code",
   "execution_count": 39,
   "id": "797a731e-f6dc-4497-b19e-39d954f9bd16",
   "metadata": {},
   "outputs": [],
   "source": [
    "def make_hash_prettier(instring):\n",
    "    n=0\n",
    "    while sha8(instring + \" \"*n) != 0:\n",
    "        n=n+1\n",
    "    print(n , \"steps, found \", \"#\"+instring+\" \"*n+\"#\") \n",
    "    return instring + \" \"*n"
   ]
  },
  {
   "cell_type": "code",
   "execution_count": 41,
   "id": "e8273789-a091-48f6-af49-aecc3221341a",
   "metadata": {},
   "outputs": [
    {
     "name": "stdout",
     "output_type": "stream",
     "text": [
      "11 steps, found  #The quick brown fox.           #\n",
      "4 steps, found  #Lazy dog!    #\n",
      "14 steps, found  #The quick brown dog.              #\n",
      "4 steps, found  #This is a test message    #\n",
      "1 steps, found  #Holy cow! #\n",
      "0 steps, found  #Data 13600#\n",
      "10 steps, found  #Are there enough strings here          #\n",
      "7 steps, found  #how about some more       #\n",
      "5 steps, found  #what about now     #\n",
      "4 steps, found  #this is a test 1234    #\n",
      "4 steps, found  #123    #\n",
      "5 steps, found  #a     #\n",
      "14 steps, found  #bc              #\n"
     ]
    }
   ],
   "source": [
    "prettified_data = [make_hash_prettier(k) for k in data] "
   ]
  },
  {
   "cell_type": "markdown",
   "id": "143a709e-623c-4b94-beb7-2882d8f27a94",
   "metadata": {},
   "source": [
    "Since I don't have any particular knowledge of how the modifications to the strings will change the sha2 8-bit hash, each attempt has a 12.5% chance of stumbling on the target hash.  The number of attempts before I find one that succeeeds is a geometric distribution, with a mean number of attempts for each target of 1/p = 8. "
   ]
  },
  {
   "cell_type": "markdown",
   "id": "af7953f2",
   "metadata": {},
   "source": [
    "## Applications of Hashing\n",
    "Now, let's look at some of the applications of hashing in detail.\n",
    "\n",
    "### Hash Indexing\n",
    "A hash index is a data structure used for efficient searching in databases or other data storage systems. It leverages the principles of hashing to enable fast retrieval of data. Let's assume that we have two key functions that we need to implement:\n",
    "```\n",
    "put(k,v) # associates the value v with a key k\n",
    "get(k) # retrieves the value for key k, or says k doesn't exist\n",
    "```\n",
    "\n",
    "Here's how it works:\n",
    "1. **Index Storage**: The index structure is often a simple data array. Each index entry is referenced by a numerical value and typically contains a reference or pointer to the actual data.\n",
    "\n",
    "2. **Hash Function**: A hash index begins with a hash function. This function takes a key and computes a hash code, which is typically a numerical value. The hash function should ideally distribute keys uniformly across the index space.\n",
    "\n",
    "3. **Indexing**: Once the hash code is computed, it is used to determine the index or location where the corresponding data should be stored or looked up. This index can be thought of as an integer address within the index structure.\n",
    "\n",
    "4. **Lookup Operation**: When you want to retrieve data associated with a particular key, the hash index computes the hash code for the key and uses it to locate the corresponding index or bucket in the index structure. Then, it retrieves the data associated with that key from the index entry.\n",
    "\n",
    "5. **Insertion and Deletion**: Hash indexes also support insertion and deletion operations. When inserting data, the hash index calculates the hash code for the key and stores the data in the appropriate index location. Similarly, when deleting data, it locates the index entry using the hash code and removes it.\n",
    "\n",
    "6. **Collision Handling**: Collisions can occur when different keys produce the same hash code. Hash indexes typically employ collision resolution techniques such as chaining (using linked lists or other structures to store multiple items with the same hash code in the same index bucket).\n",
    "\n",
    "### Hash Data Tampering\n",
    "Hashing can be used as a checksum or a cryptographic hash function to prevent data tampering or corruption in various scenarios. Here's how:\n",
    "\n",
    "1. **Checksums**: In simple cases, such as file integrity checks, a checksum can be computed for the data using a hash function. The checksum is a fixed-size digest generated from the data. By storing and comparing this checksum value, you can detect any changes or corruption in the data. If the data is modified, the computed checksum will differ from the original checksum, indicating tampering or corruption.\n",
    "\n",
    "2. **Cryptographic Hash Functions**: Cryptographic hash functions, such as SHA-256 or MD5, are designed to be one-way functions, meaning it's computationally infeasible to reverse-engineer the original data from the hash value. These functions produce a fixed-size hash value regardless of the input data size. By storing and comparing the hash values of the original data, you can verify its integrity. Even a small change in the input data will result in a drastically different hash value, making it easy to detect tampering.\n",
    "\n",
    "### Hash Partitioning\n",
    "Hash partitioning is a technique used in distributed computing and database systems to divide data across multiple nodes or partitions based on a hash function applied to a specific attribute or key. Here's how it works and why it's beneficial for load balancing:\n",
    "\n",
    "1. **Partitioning Process**: In hash partitioning, each record in the dataset is processed by a hash function, which generates a hash value based on a chosen attribute or key of the record. This hash value determines the partition to which the record belongs. For example, if you're partitioning based on a customer ID, each customer's ID is hashed, and the resulting hash value is used to determine which partition (or node) will store that customer's data.\n",
    "\n",
    "2. **Equal Distribution**: One of the key benefits of hash partitioning is that it aims to distribute data evenly across partitions. Since the hash function (ideally) distributes data uniformly across its range, each partition should receive approximately the same number of records. This prevents any single partition from becoming a bottleneck due to an uneven distribution of data, thereby improving load balancing.\n",
    "\n",
    "3. **Efficient Query Processing**: Hash partitioning can also improve query performance. When a query is executed, it often only needs to access data from a specific partition rather than scanning the entire dataset. This reduces the amount of data that needs to be processed, leading to faster query execution times.\n",
    "\n",
    "4. **Scalability**: Hash partitioning allows for easy scalability by adding more partitions or nodes to the system as the data grows or the workload increases. Since data is evenly distributed across partitions, adding more nodes doesn't disproportionately affect the workload of any single node. This enables systems to scale out horizontally while maintaining balanced resource utilization across all nodes.\n",
    "\n",
    "5. **Fault Tolerance**: Hash partitioning can also improve fault tolerance in distributed systems. If a node fails, the data stored on that node can be redistributed among the remaining nodes based on the hash function, ensuring that no data is lost and the system can continue to operate without interruption.\n",
    "\n",
    "### Proof-of-Work\n",
    "A simple proof of work (PoW) mechanism with hashing is commonly used in blockchain systems to secure the network against malicious actors and ensure the integrity of transactions. Here's a basic explanation of how it works:\n",
    "\n",
    "1. **Problem Definition**: In a PoW system, participants (often referred to as miners) compete to find a solution to a computationally difficult problem. This problem is typically defined as finding a hash value that meets certain criteria.\n",
    "\n",
    "2. **Hash Function**: The participants use a cryptographic hash function, such as SHA-256, to generate hash values from input data. The hash function takes an input (often a block of data including transaction data and a nonce) and produces a fixed-size output (the hash value).\n",
    "\n",
    "3. **Target Value**: The network sets a target value that the hash of a block must be less than or equal to in order for the block to be considered valid. This target value determines the difficulty of the PoW problem. The lower the target value, the more difficult it is to find a valid hash.\n",
    "\n",
    "4. **Finding the Nonce**: Miners start with a block of data (including transaction data) and a nonce (a number used only once). They repeatedly hash the block with different nonce values until they find a hash value that meets the target criteria (i.e., is less than or equal to the target value). This process requires significant computational effort because the outcome of the hash function is unpredictable, and there's no shortcut to finding a valid nonce other than trial and error.\n",
    "\n",
    "5. **Validation**: Once a miner finds a nonce that produces a hash value below the target, they broadcast the block (which includes the nonce) to the network. Other participants in the network can easily verify that the hash value meets the target criteria by hashing the block with the provided nonce and checking if the resulting hash is below the target value.\n",
    "\n",
    "6. **Block Addition**: Once the block is validated by the network, it is added to the blockchain, and the miner who found the valid nonce is rewarded with cryptocurrency (in many cases).\n",
    "\n",
    "The key idea behind this PoW mechanism is that finding a valid hash requires a significant amount of computational work (hence \"proof of work\"). This makes it costly and time-consuming for malicious actors to manipulate the blockchain, as they would need to invest substantial computational resources to overpower the honest participants in the network."
   ]
  },
  {
   "cell_type": "code",
   "execution_count": null,
   "id": "307ab17b",
   "metadata": {},
   "outputs": [],
   "source": []
  }
 ],
 "metadata": {
  "kernelspec": {
   "display_name": "Python 3 (ipykernel)",
   "language": "python",
   "name": "python3"
  },
  "language_info": {
   "codemirror_mode": {
    "name": "ipython",
    "version": 3
   },
   "file_extension": ".py",
   "mimetype": "text/x-python",
   "name": "python",
   "nbconvert_exporter": "python",
   "pygments_lexer": "ipython3",
   "version": "3.11.7"
  }
 },
 "nbformat": 4,
 "nbformat_minor": 5
}
