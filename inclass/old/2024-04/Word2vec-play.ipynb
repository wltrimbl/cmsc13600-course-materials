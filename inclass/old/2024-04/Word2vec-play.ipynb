{
 "cells": [
  {
   "cell_type": "code",
   "execution_count": 7,
   "metadata": {},
   "outputs": [],
   "source": [
    "import numpy as np\n",
    "import pandas as pd\n",
    "import matplotlib.pyplot as plt\n",
    "import nltk\n",
    "from gensim.models import KeyedVectors\n"
   ]
  },
  {
   "cell_type": "code",
   "execution_count": 5,
   "metadata": {},
   "outputs": [
    {
     "name": "stdout",
     "output_type": "stream",
     "text": [
      "Retrieving notices: ...working... done\n",
      "Channels:\n",
      " - defaults\n",
      " - conda-forge\n",
      "Platform: osx-64\n",
      "Collecting package metadata (repodata.json): done\n",
      "Solving environment: done\n",
      "\n",
      "## Package Plan ##\n",
      "\n",
      "  environment location: /Users/wltrimbl/anaconda3\n",
      "\n",
      "  added / updated specs:\n",
      "    - gensim\n",
      "    - matplotlib\n",
      "    - nltk\n",
      "    - numpy\n",
      "    - pandas\n",
      "    - word2vec\n",
      "\n",
      "\n",
      "The following packages will be downloaded:\n",
      "\n",
      "    package                    |            build\n",
      "    ---------------------------|-----------------\n",
      "    gensim-4.3.3               |  py311he327ffe_0        42.3 MB\n",
      "    joblib-1.4.2               |  py311hecd8cb5_0         532 KB\n",
      "    nltk-3.9.1                 |  py311hecd8cb5_0         2.8 MB\n",
      "    numpy-1.26.4               |  py311h91b6869_0          12 KB\n",
      "    numpy-base-1.26.4          |  py311hb3ec012_0         7.8 MB\n",
      "    pandas-2.2.2               |  py311he327ffe_0        14.9 MB\n",
      "    word2vec-0.9.4             |  py311hb9e55a9_0          59 KB\n",
      "    ------------------------------------------------------------\n",
      "                                           Total:        68.3 MB\n",
      "\n",
      "The following NEW packages will be INSTALLED:\n",
      "\n",
      "  gensim             pkgs/main/osx-64::gensim-4.3.3-py311he327ffe_0 \n",
      "  joblib             pkgs/main/osx-64::joblib-1.4.2-py311hecd8cb5_0 \n",
      "  nltk               pkgs/main/osx-64::nltk-3.9.1-py311hecd8cb5_0 \n",
      "  word2vec           pkgs/main/osx-64::word2vec-0.9.4-py311hb9e55a9_0 \n",
      "\n",
      "The following packages will be UPDATED:\n",
      "\n",
      "  numpy                              1.26.3-py311h91b6869_0 --> 1.26.4-py311h91b6869_0 \n",
      "  numpy-base                         1.26.3-py311hb3ec012_0 --> 1.26.4-py311hb3ec012_0 \n",
      "  pandas                              2.1.4-py311hdb55bb0_0 --> 2.2.2-py311he327ffe_0 \n",
      "\n",
      "\n",
      "\n",
      "Downloading and Extracting Packages:\n",
      "gensim-4.3.3         | 42.3 MB   |                                       |   0% \n",
      "pandas-2.2.2         | 14.9 MB   |                                       |   0% \u001b[A\n",
      "\n",
      "numpy-base-1.26.4    | 7.8 MB    |                                       |   0% \u001b[A\u001b[A\n",
      "\n",
      "\n",
      "nltk-3.9.1           | 2.8 MB    |                                       |   0% \u001b[A\u001b[A\u001b[A\n",
      "\n",
      "\n",
      "\n",
      "joblib-1.4.2         | 532 KB    |                                       |   0% \u001b[A\u001b[A\u001b[A\u001b[A\n",
      "\n",
      "\n",
      "\n",
      "\n",
      "word2vec-0.9.4       | 59 KB     |                                       |   0% \u001b[A\u001b[A\u001b[A\u001b[A\u001b[A\n",
      "\n",
      "\n",
      "\n",
      "\n",
      "\n",
      "numpy-1.26.4         | 12 KB     |                                       |   0% \u001b[A\u001b[A\u001b[A\u001b[A\u001b[A\u001b[A\n",
      "\n",
      "numpy-base-1.26.4    | 7.8 MB    |                                       |   0% \u001b[A\u001b[A\n",
      "\n",
      "\n",
      "gensim-4.3.3         | 42.3 MB   |                                       |   0% \u001b[A\u001b[A\u001b[A\n",
      "pandas-2.2.2         | 14.9 MB   |                                       |   0% \u001b[A\n",
      "\n",
      "\n",
      "\n",
      "joblib-1.4.2         | 532 KB    | #1                                    |   3% \u001b[A\u001b[A\u001b[A\u001b[A\n",
      "\n",
      "\n",
      "nltk-3.9.1           | 2.8 MB    | ##9                                   |   8% \u001b[A\u001b[A\u001b[A\n",
      "\n",
      "gensim-4.3.3         | 42.3 MB   |                                       |   0% \u001b[A\u001b[A\n",
      "pandas-2.2.2         | 14.9 MB   | 6                                     |   2% \u001b[A\n",
      "\n",
      "\n",
      "\n",
      "joblib-1.4.2         | 532 KB    | #######################3              |  63% \u001b[A\u001b[A\u001b[A\u001b[A\n",
      "\n",
      "\n",
      "nltk-3.9.1           | 2.8 MB    | ##########2                           |  28% \u001b[A\u001b[A\u001b[A\n",
      "\n",
      "gensim-4.3.3         | 42.3 MB   | 2                                     |   1% \u001b[A\u001b[A\n",
      "pandas-2.2.2         | 14.9 MB   | #2                                    |   3% \u001b[A\n",
      "\n",
      "\n",
      "nltk-3.9.1           | 2.8 MB    | ######################4               |  61% \u001b[A\u001b[A\u001b[A\n",
      "\n",
      "numpy-base-1.26.4    | 7.8 MB    | ########7                             |  24% \u001b[A\u001b[A\n",
      "gensim-4.3.3         | 42.3 MB   | 3                                     |   1% \u001b[A\n",
      "\n",
      "\n",
      "gensim-4.3.3         | 42.3 MB   | 4                                     |   1% \u001b[A\u001b[A\u001b[A\n",
      "pandas-2.2.2         | 14.9 MB   | ####5                                 |  12% \u001b[A\n",
      "\n",
      "gensim-4.3.3         | 42.3 MB   | 6                                     |   2% \u001b[A\u001b[A\n",
      "\n",
      "numpy-base-1.26.4    | 7.8 MB    | ############9                         |  35% \u001b[A\u001b[A\n",
      "pandas-2.2.2         | 14.9 MB   | #####6                                |  15% \u001b[A\n",
      "\n",
      "\n",
      "\n",
      "\n",
      "gensim-4.3.3         | 42.3 MB   | 8                                     |   2% \u001b[A\u001b[A\u001b[A\u001b[A\u001b[A\n",
      "pandas-2.2.2         | 14.9 MB   | ######9                               |  19% \u001b[A\n",
      "\n",
      "numpy-base-1.26.4    | 7.8 MB    | ##############9                       |  41% \u001b[A\u001b[A\n",
      "\n",
      "numpy-base-1.26.4    | 7.8 MB    | #################7                    |  48% \u001b[A\u001b[A\n",
      "gensim-4.3.3         | 42.3 MB   | #1                                    |   3% \u001b[A\n",
      "\n",
      "\n",
      "\n",
      "\n",
      "\n",
      "numpy-1.26.4         | 12 KB     | ##################################### | 100% \u001b[A\u001b[A\u001b[A\u001b[A\u001b[A\u001b[A\n",
      "\n",
      "\n",
      "\n",
      "\n",
      "\n",
      "numpy-1.26.4         | 12 KB     | ##################################### | 100% \u001b[A\u001b[A\u001b[A\u001b[A\u001b[A\u001b[A\n",
      "\n",
      "\n",
      "\n",
      "gensim-4.3.3         | 42.3 MB   | #5                                    |   4% \u001b[A\u001b[A\u001b[A\u001b[A\n",
      "pandas-2.2.2         | 14.9 MB   | #########2                            |  25% \u001b[A\n",
      "\n",
      "gensim-4.3.3         | 42.3 MB   | #8                                    |   5% \u001b[A\u001b[A\n",
      "pandas-2.2.2         | 14.9 MB   | ##########7                           |  29% \u001b[A\n",
      "\n",
      "numpy-base-1.26.4    | 7.8 MB    | #######################4              |  63% \u001b[A\u001b[A\n",
      "\n",
      "\n",
      "\n",
      "\n",
      "word2vec-0.9.4       | 59 KB     | ##################################### | 100% \u001b[A\u001b[A\u001b[A\u001b[A\u001b[A\n",
      "\n",
      "\n",
      "\n",
      "\n",
      "gensim-4.3.3         | 42.3 MB   | ##2                                   |   6% \u001b[A\u001b[A\u001b[A\u001b[A\u001b[A\n",
      "pandas-2.2.2         | 14.9 MB   | ###########9                          |  32% \u001b[A\n",
      "\n",
      "gensim-4.3.3         | 42.3 MB   | ##7                                   |   7% \u001b[A\u001b[A\n",
      "\n",
      "numpy-base-1.26.4    | 7.8 MB    | ############################3         |  77% \u001b[A\u001b[A\n",
      "gensim-4.3.3         | 42.3 MB   | ###2                                  |   9% \u001b[A\n",
      "\n",
      "numpy-base-1.26.4    | 7.8 MB    | ##############################7       |  83% \u001b[A\u001b[A\n",
      "gensim-4.3.3         | 42.3 MB   | ###6                                  |  10% \u001b[A\n",
      "\n",
      "numpy-base-1.26.4    | 7.8 MB    | #################################2    |  90% \u001b[A\u001b[A\n",
      "gensim-4.3.3         | 42.3 MB   | ####1                                 |  11% \u001b[A\n",
      "\n",
      "numpy-base-1.26.4    | 7.8 MB    | ###################################6  |  96% \u001b[A\u001b[A\n",
      "gensim-4.3.3         | 42.3 MB   | ####6                                 |  12% \u001b[A\n",
      "gensim-4.3.3         | 42.3 MB   | #####2                                |  14% \u001b[A\n",
      "gensim-4.3.3         | 42.3 MB   | #####9                                |  16% \u001b[A\n",
      "gensim-4.3.3         | 42.3 MB   | ######5                               |  18% \u001b[A\n",
      "gensim-4.3.3         | 42.3 MB   | #######1                              |  19% \u001b[A\n",
      "gensim-4.3.3         | 42.3 MB   | #######7                              |  21% \u001b[A\n",
      "gensim-4.3.3         | 42.3 MB   | ########5                             |  23% \u001b[A\n",
      "gensim-4.3.3         | 42.3 MB   | #########3                            |  25% \u001b[A\n",
      "gensim-4.3.3         | 42.3 MB   | #########9                            |  27% \u001b[A\n",
      "gensim-4.3.3         | 42.3 MB   | ##########6                           |  29% \u001b[A\n",
      "gensim-4.3.3         | 42.3 MB   | ###########4                          |  31% \u001b[A\n",
      "gensim-4.3.3         | 42.3 MB   | #############2                        |  36% \u001b[A\n",
      "\n",
      "\n",
      "\n",
      "gensim-4.3.3         | 42.3 MB   | ###################################2  |  95% \u001b[A\u001b[A\u001b[A\u001b[A\n",
      "\n",
      "\n",
      "nltk-3.9.1           | 2.8 MB    | ##################################### | 100% \u001b[A\u001b[A\u001b[A\n",
      "\n",
      "gensim-4.3.3         | 42.3 MB   | ##################################### | 100% \u001b[A\u001b[A\n",
      "                                                                                \u001b[A\n",
      "                                                                                \u001b[A\n",
      "\n",
      "                                                                                \u001b[A\u001b[A\n",
      "\n",
      "\n",
      "                                                                                \u001b[A\u001b[A\u001b[A\n",
      "\n",
      "\n",
      "\n",
      "                                                                                \u001b[A\u001b[A\u001b[A\u001b[A\n",
      "\n",
      "\n",
      "\n",
      "\n",
      "                                                                                \u001b[A\u001b[A\u001b[A\u001b[A\u001b[A\n",
      "\n",
      "\n",
      "\n",
      "\n",
      "\n",
      "                                                                                \u001b[A\u001b[A\u001b[A\u001b[A\u001b[A\u001b[A\n",
      "Preparing transaction: done\n",
      "Verifying transaction: done\n",
      "Executing transaction: done\n"
     ]
    }
   ],
   "source": [
    "import sys\n",
    "!conda install --yes --prefix {sys.prefix} numpy matplotlib pandas nltk word2vec gensim\n"
   ]
  },
  {
   "cell_type": "code",
   "execution_count": 7,
   "metadata": {},
   "outputs": [
    {
     "name": "stdout",
     "output_type": "stream",
     "text": [
      "['fasttext-wiki-news-subwords-300', 'conceptnet-numberbatch-17-06-300', 'word2vec-ruscorpora-300', 'word2vec-google-news-300', 'glove-wiki-gigaword-50', 'glove-wiki-gigaword-100', 'glove-wiki-gigaword-200', 'glove-wiki-gigaword-300', 'glove-twitter-25', 'glove-twitter-50', 'glove-twitter-100', 'glove-twitter-200', '__testing_word2vec-matrix-synopsis']\n"
     ]
    }
   ],
   "source": [
    "# https://radimrehurek.com/gensim/auto_examples/tutorials/run_word2vec.html\n",
    "import gensim.downloader\n",
    "# Show all available models in gensim-data\n",
    "print(list(gensim.downloader.info()['models'].keys()))\n"
   ]
  },
  {
   "cell_type": "code",
   "execution_count": 8,
   "metadata": {},
   "outputs": [],
   "source": [
    "wv = gensim.downloader.load('word2vec-google-news-300')"
   ]
  },
  {
   "cell_type": "code",
   "execution_count": 9,
   "metadata": {},
   "outputs": [
    {
     "data": {
      "text/plain": [
       "3000000"
      ]
     },
     "execution_count": 9,
     "metadata": {},
     "output_type": "execute_result"
    }
   ],
   "source": [
    "# According to https://stackoverflow.com/questions/35596031/gensim-word2vec-find-number-of-words-in-vocabulary \n",
    "len(wv)  # gives me the number of items in vocabulary."
   ]
  },
  {
   "cell_type": "code",
   "execution_count": 2,
   "metadata": {},
   "outputs": [
    {
     "ename": "NameError",
     "evalue": "name 'wv' is not defined",
     "output_type": "error",
     "traceback": [
      "\u001b[0;31m---------------------------------------------------------------------------\u001b[0m",
      "\u001b[0;31mNameError\u001b[0m                                 Traceback (most recent call last)",
      "Cell \u001b[0;32mIn[2], line 3\u001b[0m\n\u001b[1;32m      1\u001b[0m \u001b[38;5;66;03m# Okay, this demo has wv.most_similar.. which takes a \"positive\" and a \"negative\" list of words\u001b[39;00m\n\u001b[1;32m      2\u001b[0m \u001b[38;5;66;03m# https://tedboy.github.io/nlps/generated/generated/gensim.models.Word2Vec.most_similar.html\u001b[39;00m\n\u001b[0;32m----> 3\u001b[0m \u001b[38;5;28mprint\u001b[39m(\u001b[43mwv\u001b[49m\u001b[38;5;241m.\u001b[39mmost_similar(positive\u001b[38;5;241m=\u001b[39m[\u001b[38;5;124m'\u001b[39m\u001b[38;5;124mmushroom\u001b[39m\u001b[38;5;124m'\u001b[39m], topn\u001b[38;5;241m=\u001b[39m\u001b[38;5;241m5\u001b[39m))\n",
      "\u001b[0;31mNameError\u001b[0m: name 'wv' is not defined"
     ]
    }
   ],
   "source": [
    "# Okay, this demo has wv.most_similar.. which takes a \"positive\" and a \"negative\" list of words\n",
    "# https://tedboy.github.io/nlps/generated/generated/gensim.models.Word2Vec.most_similar.html\n",
    "print(wv.most_similar(positive=['mushroom'], topn=5))"
   ]
  },
  {
   "cell_type": "code",
   "execution_count": 10,
   "metadata": {},
   "outputs": [
    {
     "name": "stdout",
     "output_type": "stream",
     "text": [
      "[('frustration', 0.6751393675804138), ('disappointments', 0.6434152126312256), ('dismay', 0.6363516449928284), ('disapointment', 0.6301339864730835), ('dissapointment', 0.6219700574874878)]\n"
     ]
    }
   ],
   "source": [
    "print(wv.most_similar(positive=['disappointment'], topn=5))"
   ]
  },
  {
   "cell_type": "code",
   "execution_count": 11,
   "metadata": {},
   "outputs": [
    {
     "name": "stdout",
     "output_type": "stream",
     "text": [
      "car\n"
     ]
    }
   ],
   "source": [
    "# Okay, Cookie, which one of these things is not like the others?\n",
    "print(wv.doesnt_match(['fire', 'water', 'land', 'sea', 'air', 'car']))"
   ]
  },
  {
   "cell_type": "code",
   "execution_count": null,
   "metadata": {},
   "outputs": [],
   "source": [
    "print (wv.most_similar(positive=[\"Merced\", \"State\"], negative=[\"City\"]))"
   ]
  },
  {
   "cell_type": "code",
   "execution_count": null,
   "metadata": {},
   "outputs": [],
   "source": [
    "print (wv.most_similar(positive=[\"Merced\", \"Chicago\"], negative=[\"Illinois\"]))"
   ]
  },
  {
   "cell_type": "code",
   "execution_count": null,
   "metadata": {},
   "outputs": [],
   "source": [
    "print (wv.most_similar(positive=[\"Chicago\", \"State\"], negative=[\"City\"]))"
   ]
  },
  {
   "cell_type": "code",
   "execution_count": null,
   "metadata": {},
   "outputs": [],
   "source": [
    "# https://radimrehurek.com/gensim/models/word2vec.html\n",
    "from gensim.models import KeyedVectors"
   ]
  },
  {
   "cell_type": "code",
   "execution_count": null,
   "metadata": {},
   "outputs": [],
   "source": [
    "vector = wv['computer']  # Get word2vec number for a word \n",
    "vector"
   ]
  },
  {
   "cell_type": "code",
   "execution_count": null,
   "metadata": {},
   "outputs": [],
   "source": [
    "plt.hist(vector, bins=30)"
   ]
  },
  {
   "cell_type": "code",
   "execution_count": null,
   "metadata": {},
   "outputs": [],
   "source": [
    "def string_to_vec(s):\n",
    "    tok1 = nltk.word_tokenize(s)\n",
    "    print(dir(tok1))\n"
   ]
  },
  {
   "cell_type": "code",
   "execution_count": null,
   "metadata": {},
   "outputs": [],
   "source": [
    "string_to_vec(Xtext.iloc[0])"
   ]
  },
  {
   "cell_type": "code",
   "execution_count": null,
   "metadata": {},
   "outputs": [],
   "source": [
    "tokens =nltk.word_tokenize(Xtext.iloc[0])"
   ]
  },
  {
   "cell_type": "code",
   "execution_count": null,
   "metadata": {},
   "outputs": [],
   "source": [
    "for t in tokens:\n",
    "    print(t)"
   ]
  },
  {
   "cell_type": "code",
   "execution_count": null,
   "metadata": {},
   "outputs": [],
   "source": [
    "for t in tokens:\n",
    "    print(dir(t))\n",
    "    break"
   ]
  },
  {
   "cell_type": "code",
   "execution_count": null,
   "metadata": {},
   "outputs": [],
   "source": [
    "def string_to_vec(s):\n",
    "    N=300\n",
    "    t = np.zeros(300)\n",
    "    tok1 = nltk.word_tokenize(s)\n",
    "    for token in tok1:\n",
    "        c = wv[token]\n",
    "        t = t+c\n",
    "        print(t)"
   ]
  },
  {
   "cell_type": "code",
   "execution_count": null,
   "metadata": {},
   "outputs": [],
   "source": [
    "string_to_vec(\"hat\")"
   ]
  },
  {
   "cell_type": "code",
   "execution_count": null,
   "metadata": {},
   "outputs": [],
   "source": [
    "string_to_vec(\"hat box\")"
   ]
  },
  {
   "cell_type": "code",
   "execution_count": null,
   "metadata": {},
   "outputs": [],
   "source": [
    "def string_to_vec(s):\n",
    "    N=300\n",
    "    t = np.zeros(300)\n",
    "    tok1 = nltk.word_tokenize(s)\n",
    "    for token in tok1:\n",
    "        c = wv[token]\n",
    "        t = t+c\n",
    "        #print(t)\n",
    "    return(t / len(tok1))"
   ]
  },
  {
   "cell_type": "code",
   "execution_count": null,
   "metadata": {},
   "outputs": [],
   "source": [
    "# TESTS\n",
    "h1 = string_to_vec(\"hat box\")\n",
    "h2 = string_to_vec(\"box hat\")"
   ]
  },
  {
   "cell_type": "code",
   "execution_count": null,
   "metadata": {},
   "outputs": [],
   "source": [
    "h1[0:10], h2[0:10]"
   ]
  },
  {
   "cell_type": "code",
   "execution_count": null,
   "metadata": {},
   "outputs": [],
   "source": [
    "# MORE TESTS\n",
    "h1 = string_to_vec(\"glibberfobble in the wind\")"
   ]
  },
  {
   "cell_type": "code",
   "execution_count": null,
   "metadata": {},
   "outputs": [],
   "source": [
    "def string_to_vec(s):\n",
    "    N=300\n",
    "    n=0\n",
    "    t = np.zeros(300)\n",
    "    tok1 = nltk.word_tokenize(s)\n",
    "    for token in tok1:\n",
    "        try:\n",
    "            c = wv[token]\n",
    "            t = t+c\n",
    "            n = n+1\n",
    "        except KeyError:\n",
    "            pass\n",
    "    return(t / n)"
   ]
  },
  {
   "cell_type": "code",
   "execution_count": null,
   "metadata": {},
   "outputs": [],
   "source": [
    "h1 = string_to_vec(\"glibberfobble in the wind\")\n",
    "h1"
   ]
  },
  {
   "cell_type": "code",
   "execution_count": null,
   "metadata": {},
   "outputs": [],
   "source": [
    "# Neat.. https://jalammar.github.io/illustrated-word2vec/\n"
   ]
  },
  {
   "cell_type": "code",
   "execution_count": null,
   "metadata": {},
   "outputs": [],
   "source": [
    "text = \"Documents released on Saturday by St. Louis County Prosecutor Bob McCulloch reveal new details about the fatal shooting of unarmed black teenager Michael Brown by former Ferguson police officer Darren Wilson in August\""
   ]
  },
  {
   "cell_type": "code",
   "execution_count": null,
   "metadata": {},
   "outputs": [],
   "source": [
    "X = []\n",
    "for token in text.split():\n",
    "    X.append(wv[token]) \n",
    "X= np.array(X)"
   ]
  },
  {
   "cell_type": "code",
   "execution_count": null,
   "metadata": {},
   "outputs": [],
   "source": [
    "X = []\n",
    "for token in text.split():\n",
    "    try:\n",
    "        X.append(wv[token])\n",
    "    except:\n",
    "        X.append(np.zeros(300))\n",
    "X= np.array(X)"
   ]
  },
  {
   "cell_type": "code",
   "execution_count": null,
   "metadata": {},
   "outputs": [],
   "source": [
    "plt.imshow(X, aspect=\"auto\", cmap=\"RdGy\", interpolation=\"nearest\")\n",
    "plt.yticks( range(len(text.split())), text.split() ) "
   ]
  },
  {
   "cell_type": "code",
   "execution_count": null,
   "metadata": {},
   "outputs": [],
   "source": [
    "plt.hist(X.flatten(), bins=200)"
   ]
  },
  {
   "cell_type": "code",
   "execution_count": null,
   "metadata": {},
   "outputs": [],
   "source": []
  }
 ],
 "metadata": {
  "kernelspec": {
   "display_name": "Python 3 (ipykernel)",
   "language": "python",
   "name": "python3"
  },
  "language_info": {
   "codemirror_mode": {
    "name": "ipython",
    "version": 3
   },
   "file_extension": ".py",
   "mimetype": "text/x-python",
   "name": "python",
   "nbconvert_exporter": "python",
   "pygments_lexer": "ipython3",
   "version": "3.11.7"
  }
 },
 "nbformat": 4,
 "nbformat_minor": 4
}
