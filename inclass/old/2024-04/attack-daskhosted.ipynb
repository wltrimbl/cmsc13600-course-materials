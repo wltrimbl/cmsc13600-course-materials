{
 "cells": [
  {
   "cell_type": "code",
   "execution_count": 1,
   "id": "a4ebfa69-4b71-43d2-bcb8-296cbdc9f9d8",
   "metadata": {},
   "outputs": [],
   "source": [
    "# Dispatches a hash-cracking workload to multiple servers using coiled to orchestrate \n",
    "# scheduler + workers on AWS.  \n",
    "\n",
    "# The (python) client environment must be very closely matched to the scheduler and the workers.\n",
    "# This is easiest to accomplish by running jupyter via docker:\n",
    "\n",
    "# What does this do?  Start docker container image ghcr.io/dask/dask-notebook (a 2Gb download)\n",
    "# Allow the docker container access to the current working directory, which will appear as $HOME/work \n",
    "# Allow the docker container to receive traffic on port 8888, and run the default endpoint, which \n",
    "# runs the jupyter server. \n",
    "#  docker run -v $(PWD):/home/jovyan/work   -e NB_UID=$(id -u)  -p 8888:8888  ghcr.io/dask/dask-notebook"
   ]
  },
  {
   "cell_type": "code",
   "execution_count": 1,
   "id": "76c4c43c-62d5-459b-827f-9d86a4bfd7ca",
   "metadata": {},
   "outputs": [
    {
     "name": "stdout",
     "output_type": "stream",
     "text": [
      "Collecting coiled\n",
      "  Downloading coiled-1.66.1-py3-none-any.whl.metadata (2.2 kB)\n",
      "Requirement already satisfied: aiohttp in /opt/conda/lib/python3.10/site-packages (from coiled) (3.10.5)\n",
      "Collecting backoff (from coiled)\n",
      "  Downloading backoff-2.2.1-py3-none-any.whl.metadata (14 kB)\n",
      "Collecting boto3 (from coiled)\n",
      "  Downloading boto3-1.35.72-py3-none-any.whl.metadata (6.7 kB)\n",
      "Requirement already satisfied: click>=7.1 in /opt/conda/lib/python3.10/site-packages (from coiled) (8.1.7)\n",
      "Requirement already satisfied: dask>=2022.02.1 in /opt/conda/lib/python3.10/site-packages (from coiled) (2024.9.0)\n",
      "Requirement already satisfied: distributed>=2022.02.1 in /opt/conda/lib/python3.10/site-packages (from coiled) (2024.9.0)\n",
      "Collecting fabric>=3.0 (from coiled)\n",
      "  Downloading fabric-3.2.2-py3-none-any.whl.metadata (3.5 kB)\n",
      "Collecting filelock (from coiled)\n",
      "  Downloading filelock-3.16.1-py3-none-any.whl.metadata (2.9 kB)\n",
      "Collecting gilknocker>=0.4.1 (from coiled)\n",
      "  Downloading gilknocker-0.4.1-cp310-cp310-manylinux_2_17_x86_64.manylinux2014_x86_64.whl.metadata (9.2 kB)\n",
      "Requirement already satisfied: httpx>=0.15 in /opt/conda/lib/python3.10/site-packages (from httpx[http2]>=0.15->coiled) (0.27.2)\n",
      "Requirement already satisfied: importlib-metadata in /opt/conda/lib/python3.10/site-packages (from coiled) (8.5.0)\n",
      "Collecting invoke>=2.0 (from coiled)\n",
      "  Downloading invoke-2.2.0-py3-none-any.whl.metadata (3.3 kB)\n",
      "Requirement already satisfied: ipywidgets in /opt/conda/lib/python3.10/site-packages (from coiled) (8.1.5)\n",
      "Collecting jmespath (from coiled)\n",
      "  Downloading jmespath-1.0.1-py3-none-any.whl.metadata (7.6 kB)\n",
      "Collecting jsondiff (from coiled)\n",
      "  Downloading jsondiff-2.2.1-py3-none-any.whl.metadata (5.2 kB)\n",
      "Requirement already satisfied: packaging in /opt/conda/lib/python3.10/site-packages (from coiled) (24.1)\n",
      "Collecting paramiko>=2.4 (from coiled)\n",
      "  Downloading paramiko-3.5.0-py3-none-any.whl.metadata (4.4 kB)\n",
      "Collecting pip-requirements-parser (from coiled)\n",
      "  Downloading pip_requirements_parser-32.0.1-py3-none-any.whl.metadata (9.3 kB)\n",
      "Requirement already satisfied: pip>=19.3 in /opt/conda/lib/python3.10/site-packages (from coiled) (24.2)\n",
      "Requirement already satisfied: prometheus-client in /opt/conda/lib/python3.10/site-packages (from coiled) (0.20.0)\n",
      "Collecting rich>=11.2.0 (from coiled)\n",
      "  Downloading rich-13.9.4-py3-none-any.whl.metadata (18 kB)\n",
      "Requirement already satisfied: setuptools>=49.3.0 in /opt/conda/lib/python3.10/site-packages (from coiled) (73.0.1)\n",
      "Collecting toml (from coiled)\n",
      "  Downloading toml-0.10.2-py2.py3-none-any.whl.metadata (7.1 kB)\n",
      "Requirement already satisfied: typing-extensions in /opt/conda/lib/python3.10/site-packages (from coiled) (4.12.2)\n",
      "Requirement already satisfied: wheel in /opt/conda/lib/python3.10/site-packages (from coiled) (0.44.0)\n",
      "Requirement already satisfied: cloudpickle>=3.0.0 in /opt/conda/lib/python3.10/site-packages (from dask>=2022.02.1->coiled) (3.0.0)\n",
      "Requirement already satisfied: fsspec>=2021.09.0 in /opt/conda/lib/python3.10/site-packages (from dask>=2022.02.1->coiled) (2024.9.0)\n",
      "Requirement already satisfied: partd>=1.4.0 in /opt/conda/lib/python3.10/site-packages (from dask>=2022.02.1->coiled) (1.4.2)\n",
      "Requirement already satisfied: pyyaml>=5.3.1 in /opt/conda/lib/python3.10/site-packages (from dask>=2022.02.1->coiled) (6.0.2)\n",
      "Requirement already satisfied: toolz>=0.10.0 in /opt/conda/lib/python3.10/site-packages (from dask>=2022.02.1->coiled) (0.12.1)\n",
      "Requirement already satisfied: jinja2>=2.10.3 in /opt/conda/lib/python3.10/site-packages (from distributed>=2022.02.1->coiled) (3.1.4)\n",
      "Requirement already satisfied: locket>=1.0.0 in /opt/conda/lib/python3.10/site-packages (from distributed>=2022.02.1->coiled) (1.0.0)\n",
      "Requirement already satisfied: msgpack>=1.0.2 in /opt/conda/lib/python3.10/site-packages (from distributed>=2022.02.1->coiled) (1.1.0)\n",
      "Requirement already satisfied: psutil>=5.8.0 in /opt/conda/lib/python3.10/site-packages (from distributed>=2022.02.1->coiled) (6.0.0)\n",
      "Requirement already satisfied: sortedcontainers>=2.0.5 in /opt/conda/lib/python3.10/site-packages (from distributed>=2022.02.1->coiled) (2.4.0)\n",
      "Requirement already satisfied: tblib>=1.6.0 in /opt/conda/lib/python3.10/site-packages (from distributed>=2022.02.1->coiled) (3.0.0)\n",
      "Requirement already satisfied: tornado>=6.2.0 in /opt/conda/lib/python3.10/site-packages (from distributed>=2022.02.1->coiled) (6.4.1)\n",
      "Requirement already satisfied: urllib3>=1.26.5 in /opt/conda/lib/python3.10/site-packages (from distributed>=2022.02.1->coiled) (2.2.2)\n",
      "Requirement already satisfied: zict>=3.0.0 in /opt/conda/lib/python3.10/site-packages (from distributed>=2022.02.1->coiled) (3.0.0)\n",
      "Requirement already satisfied: decorator>=5 in /opt/conda/lib/python3.10/site-packages (from fabric>=3.0->coiled) (5.1.1)\n",
      "Collecting deprecated>=1.2 (from fabric>=3.0->coiled)\n",
      "  Downloading Deprecated-1.2.15-py2.py3-none-any.whl.metadata (5.5 kB)\n",
      "Requirement already satisfied: anyio in /opt/conda/lib/python3.10/site-packages (from httpx>=0.15->httpx[http2]>=0.15->coiled) (4.4.0)\n",
      "Requirement already satisfied: certifi in /opt/conda/lib/python3.10/site-packages (from httpx>=0.15->httpx[http2]>=0.15->coiled) (2024.8.30)\n",
      "Requirement already satisfied: httpcore==1.* in /opt/conda/lib/python3.10/site-packages (from httpx>=0.15->httpx[http2]>=0.15->coiled) (1.0.5)\n",
      "Requirement already satisfied: idna in /opt/conda/lib/python3.10/site-packages (from httpx>=0.15->httpx[http2]>=0.15->coiled) (3.8)\n",
      "Requirement already satisfied: sniffio in /opt/conda/lib/python3.10/site-packages (from httpx>=0.15->httpx[http2]>=0.15->coiled) (1.3.1)\n",
      "Requirement already satisfied: h11<0.15,>=0.13 in /opt/conda/lib/python3.10/site-packages (from httpcore==1.*->httpx>=0.15->httpx[http2]>=0.15->coiled) (0.14.0)\n",
      "Requirement already satisfied: h2<5,>=3 in /opt/conda/lib/python3.10/site-packages (from httpx[http2]>=0.15->coiled) (4.1.0)\n",
      "Requirement already satisfied: zipp>=3.20 in /opt/conda/lib/python3.10/site-packages (from importlib-metadata->coiled) (3.20.2)\n",
      "Collecting bcrypt>=3.2 (from paramiko>=2.4->coiled)\n",
      "  Downloading bcrypt-4.2.1-cp39-abi3-manylinux_2_28_x86_64.whl.metadata (9.8 kB)\n",
      "Collecting cryptography>=3.3 (from paramiko>=2.4->coiled)\n",
      "  Downloading cryptography-44.0.0-cp39-abi3-manylinux_2_34_x86_64.whl.metadata (5.7 kB)\n",
      "Collecting pynacl>=1.5 (from paramiko>=2.4->coiled)\n",
      "  Downloading PyNaCl-1.5.0-cp36-abi3-manylinux_2_17_x86_64.manylinux2014_x86_64.manylinux_2_24_x86_64.whl.metadata (8.6 kB)\n",
      "Collecting markdown-it-py>=2.2.0 (from rich>=11.2.0->coiled)\n",
      "  Downloading markdown_it_py-3.0.0-py3-none-any.whl.metadata (6.9 kB)\n",
      "Requirement already satisfied: pygments<3.0.0,>=2.13.0 in /opt/conda/lib/python3.10/site-packages (from rich>=11.2.0->coiled) (2.18.0)\n",
      "Requirement already satisfied: aiohappyeyeballs>=2.3.0 in /opt/conda/lib/python3.10/site-packages (from aiohttp->coiled) (2.4.0)\n",
      "Requirement already satisfied: aiosignal>=1.1.2 in /opt/conda/lib/python3.10/site-packages (from aiohttp->coiled) (1.3.1)\n",
      "Requirement already satisfied: attrs>=17.3.0 in /opt/conda/lib/python3.10/site-packages (from aiohttp->coiled) (24.2.0)\n",
      "Requirement already satisfied: frozenlist>=1.1.1 in /opt/conda/lib/python3.10/site-packages (from aiohttp->coiled) (1.4.1)\n",
      "Requirement already satisfied: multidict<7.0,>=4.5 in /opt/conda/lib/python3.10/site-packages (from aiohttp->coiled) (6.1.0)\n",
      "Requirement already satisfied: yarl<2.0,>=1.0 in /opt/conda/lib/python3.10/site-packages (from aiohttp->coiled) (1.9.4)\n",
      "Requirement already satisfied: async-timeout<5.0,>=4.0 in /opt/conda/lib/python3.10/site-packages (from aiohttp->coiled) (4.0.3)\n",
      "Collecting botocore<1.36.0,>=1.35.72 (from boto3->coiled)\n",
      "  Downloading botocore-1.35.72-py3-none-any.whl.metadata (5.7 kB)\n",
      "Collecting s3transfer<0.11.0,>=0.10.0 (from boto3->coiled)\n",
      "  Downloading s3transfer-0.10.4-py3-none-any.whl.metadata (1.7 kB)\n",
      "Requirement already satisfied: comm>=0.1.3 in /opt/conda/lib/python3.10/site-packages (from ipywidgets->coiled) (0.2.2)\n",
      "Requirement already satisfied: ipython>=6.1.0 in /opt/conda/lib/python3.10/site-packages (from ipywidgets->coiled) (8.27.0)\n",
      "Requirement already satisfied: traitlets>=4.3.1 in /opt/conda/lib/python3.10/site-packages (from ipywidgets->coiled) (5.14.3)\n",
      "Requirement already satisfied: widgetsnbextension~=4.0.12 in /opt/conda/lib/python3.10/site-packages (from ipywidgets->coiled) (4.0.13)\n",
      "Requirement already satisfied: jupyterlab-widgets~=3.0.12 in /opt/conda/lib/python3.10/site-packages (from ipywidgets->coiled) (3.0.13)\n",
      "Collecting pyparsing (from pip-requirements-parser->coiled)\n",
      "  Downloading pyparsing-3.2.0-py3-none-any.whl.metadata (5.0 kB)\n",
      "Requirement already satisfied: python-dateutil<3.0.0,>=2.1 in /opt/conda/lib/python3.10/site-packages (from botocore<1.36.0,>=1.35.72->boto3->coiled) (2.9.0)\n",
      "Requirement already satisfied: cffi>=1.12 in /opt/conda/lib/python3.10/site-packages (from cryptography>=3.3->paramiko>=2.4->coiled) (1.17.1)\n",
      "Collecting wrapt<2,>=1.10 (from deprecated>=1.2->fabric>=3.0->coiled)\n",
      "  Downloading wrapt-1.17.0-cp310-cp310-manylinux_2_5_x86_64.manylinux1_x86_64.manylinux_2_17_x86_64.manylinux2014_x86_64.whl.metadata (6.4 kB)\n",
      "Requirement already satisfied: hyperframe<7,>=6.0 in /opt/conda/lib/python3.10/site-packages (from h2<5,>=3->httpx[http2]>=0.15->coiled) (6.0.1)\n",
      "Requirement already satisfied: hpack<5,>=4.0 in /opt/conda/lib/python3.10/site-packages (from h2<5,>=3->httpx[http2]>=0.15->coiled) (4.0.0)\n",
      "Requirement already satisfied: jedi>=0.16 in /opt/conda/lib/python3.10/site-packages (from ipython>=6.1.0->ipywidgets->coiled) (0.19.1)\n",
      "Requirement already satisfied: matplotlib-inline in /opt/conda/lib/python3.10/site-packages (from ipython>=6.1.0->ipywidgets->coiled) (0.1.7)\n",
      "Requirement already satisfied: prompt-toolkit<3.1.0,>=3.0.41 in /opt/conda/lib/python3.10/site-packages (from ipython>=6.1.0->ipywidgets->coiled) (3.0.47)\n",
      "Requirement already satisfied: stack-data in /opt/conda/lib/python3.10/site-packages (from ipython>=6.1.0->ipywidgets->coiled) (0.6.2)\n",
      "Requirement already satisfied: exceptiongroup in /opt/conda/lib/python3.10/site-packages (from ipython>=6.1.0->ipywidgets->coiled) (1.2.2)\n",
      "Requirement already satisfied: pexpect>4.3 in /opt/conda/lib/python3.10/site-packages (from ipython>=6.1.0->ipywidgets->coiled) (4.9.0)\n",
      "Requirement already satisfied: MarkupSafe>=2.0 in /opt/conda/lib/python3.10/site-packages (from jinja2>=2.10.3->distributed>=2022.02.1->coiled) (2.1.5)\n",
      "Collecting mdurl~=0.1 (from markdown-it-py>=2.2.0->rich>=11.2.0->coiled)\n",
      "  Downloading mdurl-0.1.2-py3-none-any.whl.metadata (1.6 kB)\n",
      "Requirement already satisfied: pycparser in /opt/conda/lib/python3.10/site-packages (from cffi>=1.12->cryptography>=3.3->paramiko>=2.4->coiled) (2.22)\n",
      "Requirement already satisfied: parso<0.9.0,>=0.8.3 in /opt/conda/lib/python3.10/site-packages (from jedi>=0.16->ipython>=6.1.0->ipywidgets->coiled) (0.8.4)\n",
      "Requirement already satisfied: ptyprocess>=0.5 in /opt/conda/lib/python3.10/site-packages (from pexpect>4.3->ipython>=6.1.0->ipywidgets->coiled) (0.7.0)\n",
      "Requirement already satisfied: wcwidth in /opt/conda/lib/python3.10/site-packages (from prompt-toolkit<3.1.0,>=3.0.41->ipython>=6.1.0->ipywidgets->coiled) (0.2.13)\n",
      "Requirement already satisfied: six>=1.5 in /opt/conda/lib/python3.10/site-packages (from python-dateutil<3.0.0,>=2.1->botocore<1.36.0,>=1.35.72->boto3->coiled) (1.16.0)\n",
      "Requirement already satisfied: executing>=1.2.0 in /opt/conda/lib/python3.10/site-packages (from stack-data->ipython>=6.1.0->ipywidgets->coiled) (2.1.0)\n",
      "Requirement already satisfied: asttokens>=2.1.0 in /opt/conda/lib/python3.10/site-packages (from stack-data->ipython>=6.1.0->ipywidgets->coiled) (2.4.1)\n",
      "Requirement already satisfied: pure-eval in /opt/conda/lib/python3.10/site-packages (from stack-data->ipython>=6.1.0->ipywidgets->coiled) (0.2.3)\n",
      "Downloading coiled-1.66.1-py3-none-any.whl (246 kB)\n",
      "Downloading fabric-3.2.2-py3-none-any.whl (59 kB)\n",
      "Downloading gilknocker-0.4.1-cp310-cp310-manylinux_2_17_x86_64.manylinux2014_x86_64.whl (613 kB)\n",
      "\u001b[2K   \u001b[90m━━━━━━━━━━━━━━━━━━━━━━━━━━━━━━━━━━━━━━━━\u001b[0m \u001b[32m613.3/613.3 kB\u001b[0m \u001b[31m7.2 MB/s\u001b[0m eta \u001b[36m0:00:00\u001b[0m\n",
      "\u001b[?25hDownloading invoke-2.2.0-py3-none-any.whl (160 kB)\n",
      "Downloading paramiko-3.5.0-py3-none-any.whl (227 kB)\n",
      "Downloading rich-13.9.4-py3-none-any.whl (242 kB)\n",
      "Downloading backoff-2.2.1-py3-none-any.whl (15 kB)\n",
      "Downloading boto3-1.35.72-py3-none-any.whl (139 kB)\n",
      "Downloading jmespath-1.0.1-py3-none-any.whl (20 kB)\n",
      "Downloading filelock-3.16.1-py3-none-any.whl (16 kB)\n",
      "Downloading jsondiff-2.2.1-py3-none-any.whl (13 kB)\n",
      "Downloading pip_requirements_parser-32.0.1-py3-none-any.whl (35 kB)\n",
      "Downloading toml-0.10.2-py2.py3-none-any.whl (16 kB)\n",
      "Downloading bcrypt-4.2.1-cp39-abi3-manylinux_2_28_x86_64.whl (278 kB)\n",
      "Downloading botocore-1.35.72-py3-none-any.whl (13.1 MB)\n",
      "\u001b[2K   \u001b[90m━━━━━━━━━━━━━━━━━━━━━━━━━━━━━━━━━━━━━━━━\u001b[0m \u001b[32m13.1/13.1 MB\u001b[0m \u001b[31m12.5 MB/s\u001b[0m eta \u001b[36m0:00:00\u001b[0m00:01\u001b[0m00:01\u001b[0m\n",
      "\u001b[?25hDownloading cryptography-44.0.0-cp39-abi3-manylinux_2_34_x86_64.whl (4.2 MB)\n",
      "\u001b[2K   \u001b[90m━━━━━━━━━━━━━━━━━━━━━━━━━━━━━━━━━━━━━━━━\u001b[0m \u001b[32m4.2/4.2 MB\u001b[0m \u001b[31m14.5 MB/s\u001b[0m eta \u001b[36m0:00:00\u001b[0ma \u001b[36m0:00:01\u001b[0m\n",
      "\u001b[?25hDownloading Deprecated-1.2.15-py2.py3-none-any.whl (9.9 kB)\n",
      "Downloading markdown_it_py-3.0.0-py3-none-any.whl (87 kB)\n",
      "Downloading PyNaCl-1.5.0-cp36-abi3-manylinux_2_17_x86_64.manylinux2014_x86_64.manylinux_2_24_x86_64.whl (856 kB)\n",
      "\u001b[2K   \u001b[90m━━━━━━━━━━━━━━━━━━━━━━━━━━━━━━━━━━━━━━━━\u001b[0m \u001b[32m856.7/856.7 kB\u001b[0m \u001b[31m11.1 MB/s\u001b[0m eta \u001b[36m0:00:00\u001b[0m\n",
      "\u001b[?25hDownloading s3transfer-0.10.4-py3-none-any.whl (83 kB)\n",
      "Downloading pyparsing-3.2.0-py3-none-any.whl (106 kB)\n",
      "Downloading mdurl-0.1.2-py3-none-any.whl (10.0 kB)\n",
      "Downloading wrapt-1.17.0-cp310-cp310-manylinux_2_5_x86_64.manylinux1_x86_64.manylinux_2_17_x86_64.manylinux2014_x86_64.whl (82 kB)\n",
      "Installing collected packages: wrapt, toml, pyparsing, mdurl, jsondiff, jmespath, invoke, gilknocker, filelock, bcrypt, backoff, pynacl, pip-requirements-parser, markdown-it-py, deprecated, cryptography, botocore, s3transfer, rich, paramiko, fabric, boto3, coiled\n",
      "Successfully installed backoff-2.2.1 bcrypt-4.2.1 boto3-1.35.72 botocore-1.35.72 coiled-1.66.1 cryptography-44.0.0 deprecated-1.2.15 fabric-3.2.2 filelock-3.16.1 gilknocker-0.4.1 invoke-2.2.0 jmespath-1.0.1 jsondiff-2.2.1 markdown-it-py-3.0.0 mdurl-0.1.2 paramiko-3.5.0 pip-requirements-parser-32.0.1 pynacl-1.5.0 pyparsing-3.2.0 rich-13.9.4 s3transfer-0.10.4 toml-0.10.2 wrapt-1.17.0\n"
     ]
    }
   ],
   "source": [
    "# But this docker container with jupyter and dask doesn't have coiled.  This command runs in the container, and \n",
    "# does not have effect after the container is stopped.  \n",
    "!pip install coiled"
   ]
  },
  {
   "cell_type": "code",
   "execution_count": 5,
   "id": "cc2d4a5b-e616-4e6a-9764-8eb23a75e992",
   "metadata": {},
   "outputs": [
    {
     "data": {
      "application/vnd.jupyter.widget-view+json": {
       "model_id": "ee66669eb4ef433bb97fbd88dc2dbace",
       "version_major": 2,
       "version_minor": 0
      },
      "text/plain": [
       "Output()"
      ]
     },
     "metadata": {},
     "output_type": "display_data"
    },
    {
     "data": {
      "text/html": [
       "<pre style=\"white-space:pre;overflow-x:auto;line-height:normal;font-family:Menlo,'DejaVu Sans Mono',consolas,'Courier New',monospace\"></pre>\n"
      ],
      "text/plain": []
     },
     "metadata": {},
     "output_type": "display_data"
    },
    {
     "name": "stderr",
     "output_type": "stream",
     "text": [
      "/opt/conda/lib/python3.10/site-packages/distributed/client.py:1606: VersionMismatchWarning: Mismatched versions found\n",
      "\n",
      "+-------------+-----------------+-----------------+-----------------+\n",
      "| Package     | Client          | Scheduler       | Workers         |\n",
      "+-------------+-----------------+-----------------+-----------------+\n",
      "| dask        | 2024.9.0        | 2024.9.1        | 2024.9.1        |\n",
      "| distributed | 2024.9.0        | 2024.9.1        | 2024.9.1        |\n",
      "| pandas      | 2.2.2           | 2.2.3           | 2.2.3           |\n",
      "| python      | 3.10.14.final.0 | 3.10.12.final.0 | 3.10.12.final.0 |\n",
      "| toolz       | 0.12.1          | 0.12.0          | 0.12.0          |\n",
      "+-------------+-----------------+-----------------+-----------------+\n",
      "  warnings.warn(version_module.VersionMismatchWarning(msg[0][\"warning\"]))\n"
     ]
    }
   ],
   "source": [
    "# This command reserves the cluster.  It will confirm that you are authenticated, asking you to \n",
    "# open a browser window that is logged in to coiled.\n",
    "\n",
    "# The coiled account must be provisioned with cloud service provider credentials, and you will be\n",
    "# billed for usage.  The $0.016/hour servers aren't powerful enough to run docker, so we need at \n",
    "# least medium at about $0.05/hr.\n",
    "\n",
    "# Coiled will shut down the cluster after 20 minutes of inactivity.\n",
    "\n",
    "import coiled\n",
    "cluster = coiled.Cluster(n_workers=100, worker_vm_types=[\"m7a.medium\"],\n",
    "     container=\"ghcr.io/dask/dask\" )\n",
    "\n",
    "client = cluster.get_client()"
   ]
  },
  {
   "cell_type": "code",
   "execution_count": 6,
   "id": "4eefc1cb-2379-4bff-9fe5-105aeabf633d",
   "metadata": {},
   "outputs": [],
   "source": [
    "import hashlib\n",
    "import dask.bag as db\n",
    "import datetime\n",
    "\n",
    "'''Attack on md5+salt using dask bag + coiled for cloud parallelization'''\n",
    "\n",
    "wordlist = [\"the\", \"The\"]\n",
    "N = 20000\n",
    "\n",
    "tgts = range(N)\n",
    "\n",
    "def check_hash(j):\n",
    "    for i in range(j*5000000, (j+1)*5000000):\n",
    " #       key = \"{:09d}\".format(i)\n",
    "        key = \"{:11d}\".format(i)\n",
    "\n",
    "        for word in wordlist:\n",
    "            hash = hashlib.md5(key.encode(\"utf-8\") + word.encode(\"utf-8\")).hexdigest()\n",
    "            if hash in pset:\n",
    "                return (hash, key, word)\n",
    "    return None"
   ]
  },
  {
   "cell_type": "code",
   "execution_count": 7,
   "id": "ecddfc93-9e83-4062-a933-ec4b4de348e1",
   "metadata": {},
   "outputs": [],
   "source": [
    "puzzleeasy = ['d5f311f74b2490f29d030e74e380ff84\\n', 'b4862fae46b2933db4ad08fc408c2621\\n', 'fbf9100e94abb8d5697b077cd8a550bb\\n', 'd4f8b83b938b82628ee164d39358ece4\\n', '844a466c6bc4e01e9122baf2915399a3\\n', 'f2bc49ad4f8b029dcde283aacbdc354a\\n', 'b6f5d1e09710400ce651f63f4dfb9480\\n', '258df4c64a2ca2ebc78f74045b56def8\\n', '80c4414ccd9c3e6acf1e210be202d1ea\\n', 'e37fb3e421c7cc7a3f1b10859670b879\\n', '3b0ad9f48d16c9827ea62a02fbfd740b\\n', 'bf2dbef4c8857792229ff5ac6ecfb39a\\n', '94c6d3fc6259f9ea9e8e76426dc28409\\n', 'ed878447d74db74fac133ee95f275d5f\\n', 'dee07ce42fda9cbbda326ca937568e43\\n', '249dafb8abcc4bb2847f8e0bf1a1a358\\n', '785237ceed3e083d5f6538095f8d1343\\n', '46b3d47cd894cd26ac96a3557f094fba\\n', '995eb0d487641ae18d20241d356ad0c0\\n', '43b410d5d092fa430f7f7be2af982b73\\n', 'd27d0dec7141637282c7e36b0e91fb58\\n', '341433318d6c1dcc3495ba6e9e12ff94\\n', '207da583d9143938e0f1d5ff2b104029\\n', '749a03d0f33a5e722faa9d30fca58819\\n', 'b49f5c8808b9947e88c3d7446c7550b8\\n', '8da3699474d0c0417a7bedfe6170c465\\n', 'b6d9ca90b602c2c2e493a2cb76b2e66b\\n', '9912c60fd48a3f4167773e0acdef2062\\n', 'bfaf43058084faf29ec65ec9ce195a19\\n', 'e37fb3e421c7cc7a3f1b10859670b879\\n', '1add2d980058404aae5a72d371e483f2\\n']\n",
    "puzzlehard = ['3193d730fcda5a16fc9f1dba9242df02\\n', '8ffb79046f652b47113dc0569d9b43bf\\n', '5e4d40162dd7516d515b4c841280752b\\n', 'e9e8ae9eb90e8ae813a8e1e0689b5343\\n', 'af1ce2fb1c59c16223b35bbb29b0674d\\n', '9aff5d7cc4138fdef6606c04b8017d8f\\n', 'cfb3af10201c69dffe878772f49cca6a\\n', 'c6d94ddc87b785426ea839a2c3e29238\\n', '0644d5ab81ec149422fdbfe36eb9a78d\\n', '646a53576f23b157d94a7f61faf4a780\\n', 'eeb469b0520546cd520c603f376672eb\\n', '3c7ef35acbe6f2cbd00131f98bba9899\\n', '13bffc4ea22a6b9484eb73d9d2f0040c\\n', 'fcaa84ecfa78b9282a14cd11502acf34\\n', 'b09c2fb96aa341b417b057fb35a00a74\\n', '9aff5d7cc4138fdef6606c04b8017d8f\\n', '75b8385746264408f1d9d531bc1c72e3\\n', 'cea168f661650df399b3b9883312698a\\n', 'e9e8ae9eb90e8ae813a8e1e0689b5343\\n', '005c10d4338d5d3a3fcf806930d81275\\n', '3e2da7fead198c904e45219e1b94718e\\n', '0184dafed0e7924d2e7f70c0a2ff7d4c\\n', '12e5b8ca1413b5651044fa6607cd268e\\n', '8a83e9aca8b0062ad5d1d040514570b0\\n', '9aff5d7cc4138fdef6606c04b8017d8f\\n', '75b8385746264408f1d9d531bc1c72e3\\n', '57e35526fa00b381bfb1c48faa1661b1\\n', '75b8385746264408f1d9d531bc1c72e3\\n', '0c4b3328b210388b51e32660906c90dc\\n', 'a378b7e79d377257ec5462a6e7bfc7da\\n', 'fac358274be0f68e496dc652d732f5b6\\n', '8f9a896fddd8c5410c548f50c9274448\\n', 'fe634c78e80ab4b08eaf9888cbc48aa8\\n', '75b8385746264408f1d9d531bc1c72e3\\n', 'd831be31e7b994460930d1821c791c49\\n', '488d831afc8482f5b3f6465ccb063892\\n', 'a378b7e79d377257ec5462a6e7bfc7da\\n', '60576249c0396adbf06446cea1412521\\n', '4e90989aa688f16355b3f1d0cec90d17\\n', '15be8a3d34f26cd8de0a98f0029e5137\\n', '9aff5d7cc4138fdef6606c04b8017d8f\\n', '7ee5d9ac38712f04690460e89fcee569\\n', '96707e35d58255adde5f8b54b4dcd6a8\\n', '84c959d92ffdf2e25325a7f2f3ec19e7\\n', '7addc7cf63499da2c573a425e0f4a5ae\\n', 'ca5752c4941cb5d367d91ef976780c1c\\n', '9aff5d7cc4138fdef6606c04b8017d8f\\n', '75b8385746264408f1d9d531bc1c72e3\\n', '08373d5bc2bed775389f7cfc8693acd9\\n', '2ae58da1dd8d4a2279659ab926c173d9\\n', 'a378b7e79d377257ec5462a6e7bfc7da\\n', '57896733d7893596eb56b2c239680de1\\n', 'ff0e18802910faeb8922b6b53bf177ca\\n', '83d502467e427db8bb4f935c05ec37a3\\n', '214e0dba04924199e5a945fb99732e44\\n', '8da13efa2c4fd7b4367922db10c47ba0\\n', 'bfe238f67dcfc9e573bdbadf41043dcc\\n', '299e4c67d97d935067295421329eb769\\n', 'e78043f2951499bbfd08a3f5a7a5a45c\\n', '57896733d7893596eb56b2c239680de1\\n', '272fcaae279b0b58eacc28dbe688b8a4\\n', '5fe9b5241b71d7a8dc57be170e8a6f30\\n', 'c18facf063ed69b421e9a34be009f3c6\\n', '545de004baf44cadf150dde0929df989\\n', '40cc44ebcd4226f6174daff874b33cf2\\n', '83d502467e427db8bb4f935c05ec37a3\\n', '57896733d7893596eb56b2c239680de1\\n', '007b16546c01c3f3ca01e8733b11de30\\n', '299e4c67d97d935067295421329eb769\\n', '538eeb2e4dafe82d94e1702c4616ff72\\n', '979cefd71ae4aa96beefc04ea6c0e971\\n', '75b8385746264408f1d9d531bc1c72e3\\n', 'afe21a992da09dd69f43d9c754fad751\\n', 'fd6143e42aace102774d81d618d46298\\n', '83d502467e427db8bb4f935c05ec37a3\\n', '4bf6342c9fe2031f3640de761ef514bb\\n', '077d275863b24f808384ce1170f8b84d\\n', '9aff5d7cc4138fdef6606c04b8017d8f\\n', '82cd0bfc47ae384a9a0b749ff41052a5\\n', '83d502467e427db8bb4f935c05ec37a3\\n', '75b8385746264408f1d9d531bc1c72e3\\n', '1ecc482e4a815fb69b98dc779aeb03d8\\n', 'a378b7e79d377257ec5462a6e7bfc7da\\n', 'b9f617e9a002a907d700dadbc53c4219\\n', 'e92b5937cd45d1ee054caa5e52e15642\\n', '84c959d92ffdf2e25325a7f2f3ec19e7\\n', 'e58942213073a83855083165433d4141\\n', 'e7fdf949b50a6d7f0d0f0454b69db040\\n', '8476cd9d2eea284fd42048f4a07dea79\\n', '299e4c67d97d935067295421329eb769\\n', 'ebb6a6736ac07a24870df779fb89c0ac\\n', '1d04c4e6bf42c437c719fc85f488d6b5\\n']\n",
    "puzzle = ['b3068921221ef5440aac6fcc3ce044c3\\n', 'cf2338821633c6a7badc5c99bf899291\\n', '62fed3dddac9a364fb03bc32989df4c9\\n', 'a485412c8970fdb93481946af88e436e\\n', '29a0b76ded818a1d1b8431c2a9b481c9\\n', 'bc0c62783a865f92be269befd24fa0c6\\n', '134b532c447860e5628343706c141b21\\n', '9fc00b57a902d292c51cd5fabbc5a3d6\\n', '69e60ba95b38ad6a23fd5b1a902148d5\\n', 'a77e84bf42c9fb0b1a4a7eccf8a912dc\\n', '864560447a863eed9d608d42c25ddda4\\n', '6f5f7b040e22ee5a27dfba0b1caeb2bc\\n', 'a77e84bf42c9fb0b1a4a7eccf8a912dc\\n', '0faf82e53a3487292e2bb496a24f9c1a\\n', 'a36dff17f810ef1933047b81a926370f\\n', 'a77e84bf42c9fb0b1a4a7eccf8a912dc\\n', '06198703b797ad9e43b3e7d47e3a8ef4\\n', 'df26711d31ab334175e194ffe1c0a368\\n', '8fef7425f6ca0fda5ac6a93c130c47bc\\n', '1d836a991e08b9f0be8fd3bab78da0d2\\n', '0be0845104c8a77339242b71eec3831f\\n', 'ceb23fa8834956ef4e4c7164e73f9f5c\\n', '8ee6d268b9194d7d2c468564d5efaa45\\n', '7a6a1a282f2ac3d9d2eca02fe24d9568\\n', 'fbc536ba1ad0eaac2f4378b2e817a46a\\n', '1baaf3f2dcac40bd0c88523db14777ee\\n', '1d836a991e08b9f0be8fd3bab78da0d2\\n', 'e969aa2641033fce4a3bed81b07c229c\\n', 'de6fdd937530a838f41ea9e405cd6971\\n', '2975d004a669f698f7d58c627a138a30\\n', '4022bed40cb355a9a70cea32bb0b224f\\n', '19e578025cdeebd6907d80803c58829f\\n', 'e969aa2641033fce4a3bed81b07c229c\\n', 'd3a14e38a34bac69cd054b950f73c9e1\\n', 'cb90e97103237dbdcf7ce1727f720536\\n', '035c49caec172c872784239752f171be\\n', '6f5f7b040e22ee5a27dfba0b1caeb2bc\\n', '0ef7391a01e158d5802f23f4704fa34a\\n', 'c51b8baa9a83eedb719ac635ec6914c9\\n', '14710d91c2e2423da10cf64e98e5dcb1\\n', 'c529f1234d9ef5828402de95f1987639\\n', '31e4f614fbe636b8e604e5dd47f6cddc\\n', 'a77e84bf42c9fb0b1a4a7eccf8a912dc\\n', 'aaf9233dca8a2f870bc868a5b6a215b6\\n', 'f30620728e52fe734f32b3ee007f729a\\n', '1d836a991e08b9f0be8fd3bab78da0d2\\n', '672116272827359cf6fe07bae3d8ad39\\n', 'ea12c590c8159c4e74e5d893827b9ee2\\n']"
   ]
  },
  {
   "cell_type": "code",
   "execution_count": 8,
   "id": "5b0a57c0-373a-4590-84a8-9c009337be05",
   "metadata": {},
   "outputs": [],
   "source": [
    "# Choose puzzle difficulty\n",
    "p = [puz.strip() for puz in puzzlehard]\n",
    "pset = set(p)"
   ]
  },
  {
   "cell_type": "code",
   "execution_count": 9,
   "id": "ee9d3f70-0ea9-44a3-89d3-062c69c3c2e6",
   "metadata": {},
   "outputs": [],
   "source": [
    "def main():\n",
    "    bag = db.from_sequence(tgts, npartitions=100)  # Adjust npartitions for your system\n",
    "    results = bag.map(check_hash).filter(lambda x: x is not None).compute()\n",
    "    for result in results:\n",
    "        print(result)"
   ]
  },
  {
   "cell_type": "code",
   "execution_count": 10,
   "id": "1517995e-f105-47f4-ac2e-b66c97614247",
   "metadata": {},
   "outputs": [
    {
     "name": "stdout",
     "output_type": "stream",
     "text": [
      "('75b8385746264408f1d9d531bc1c72e3', '84100538972', 'the')\n",
      "0:25:05.923514\n"
     ]
    }
   ],
   "source": [
    "# Hard puzzle, started 13:05 on Monday \n",
    "start = datetime.datetime.now()\n",
    "main()\n",
    "print(datetime.datetime.now()-start)"
   ]
  },
  {
   "cell_type": "code",
   "execution_count": null,
   "id": "73927b5a-2ac4-48f1-a1be-a06bcaadf7bf",
   "metadata": {},
   "outputs": [],
   "source": [
    "# Total cost:  $2.76"
   ]
  },
  {
   "cell_type": "code",
   "execution_count": null,
   "id": "eacf231f-4586-4978-97fe-4fe6237c2b63",
   "metadata": {},
   "outputs": [],
   "source": [
    "# Completed (and solved) in 25 minutes.  Compare to the medium puzzle that takes 12 minutes on laptop; \n",
    "# this required 100x more compute, and had 100x more workers, but completed 2x slower.  \n",
    "# Maybe the workers aren't as fast as the laptop, maybe it's paralellization overhead."
   ]
  },
  {
   "cell_type": "code",
   "execution_count": null,
   "id": "1c964aa8-adfb-4ed8-b4dd-6d972bf5e735",
   "metadata": {},
   "outputs": [],
   "source": [
    "# Sample run: PUZZLE (with the 9-digit key) (which takes 12 minutes on my laptop using multiple threads) \n",
    "# when distributed over n_workers = 5 I can get an answer in 5 minutes. "
   ]
  }
 ],
 "metadata": {
  "kernelspec": {
   "display_name": "Python 3 (ipykernel)",
   "language": "python",
   "name": "python3"
  },
  "language_info": {
   "codemirror_mode": {
    "name": "ipython",
    "version": 3
   },
   "file_extension": ".py",
   "mimetype": "text/x-python",
   "name": "python",
   "nbconvert_exporter": "python",
   "pygments_lexer": "ipython3",
   "version": "3.10.14"
  }
 },
 "nbformat": 4,
 "nbformat_minor": 5
}
